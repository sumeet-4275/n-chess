{
 "cells": [
  {
   "cell_type": "code",
   "execution_count": 1,
   "metadata": {
    "_cell_guid": "b1076dfc-b9ad-4769-8c92-a6c4dae69d19",
    "_uuid": "8f2839f25d086af736a60e9eeb907d3b93b6e0e5",
    "execution": {
     "iopub.execute_input": "2023-04-26T08:02:31.309685Z",
     "iopub.status.busy": "2023-04-26T08:02:31.309258Z",
     "iopub.status.idle": "2023-04-26T08:02:31.664517Z",
     "shell.execute_reply": "2023-04-26T08:02:31.663510Z",
     "shell.execute_reply.started": "2023-04-26T08:02:31.309649Z"
    }
   },
   "outputs": [],
   "source": [
    "# This Python 3 environment comes with many helpful analytics libraries installed\n",
    "# It is defined by the kaggle/python Docker image: https://github.com/kaggle/docker-python\n",
    "# For example, here's several helpful packages to load\n",
    "\n",
    "import numpy as np # linear algebra\n",
    "import pandas as pd # data processing, CSV file I/O (e.g. pd.read_csv)\n",
    "import seaborn as sns\n",
    "import matplotlib.pyplot as plt\n",
    "\n",
    "# Input data files are available in the read-only \"../input/\" directory\n",
    "# For example, running this (by clicking run or pressing Shift+Enter) will list all files under the input directory\n",
    "        \n",
    "# EDA :\n",
    "# Correlation Matrix\n",
    "# Scatter plot of results vs other columns, event vs other columns, and Termination vs other other columns, \n",
    "# Box plot for outliers\n",
    "# Histogram for Black and White ELO\n",
    "\n",
    "\n",
    "# Preprocessing\n",
    "# Encode Result in 3 categories\n",
    "# Categorize and encode Events and or type of games in less categories\n",
    "# Scale White ELO and Black ELO\n",
    "# Create a different Data frame with Opening and ECO useful later for mapping\n",
    "# Reduce Instance on basis of Termination condition as Abandoned and Rule Infarction and encode other Terminations: normal and time forfeit. \n",
    "        \n",
    "\n",
    "\n",
    "# You can write up to 20GB to the current directory (/kaggle/working/) that gets preserved as output when you create a version using \"Save & Run All\" \n",
    "# You can also write temporary files to /kaggle/temp/, but they won't be saved outside of the current session"
   ]
  },
  {
   "cell_type": "markdown",
   "metadata": {},
   "source": [
    "# Dataset"
   ]
  },
  {
   "cell_type": "code",
   "execution_count": null,
   "metadata": {
    "execution": {
     "iopub.execute_input": "2023-04-26T08:02:38.618365Z",
     "iopub.status.busy": "2023-04-26T08:02:38.617449Z",
     "iopub.status.idle": "2023-04-26T08:04:53.800111Z",
     "shell.execute_reply": "2023-04-26T08:04:53.798579Z",
     "shell.execute_reply.started": "2023-04-26T08:02:38.618320Z"
    }
   },
   "outputs": [],
   "source": [
    "chess_data_df = pd.read_csv(\"chess_games.csv\")\n",
    "print(chess_data_df.head())"
   ]
  },
  {
   "cell_type": "markdown",
   "metadata": {},
   "source": []
  },
  {
   "cell_type": "markdown",
   "metadata": {},
   "source": [
    "# Correlation Matrix"
   ]
  },
  {
   "cell_type": "code",
   "execution_count": null,
   "metadata": {
    "execution": {
     "iopub.execute_input": "2023-04-26T08:39:57.310838Z",
     "iopub.status.busy": "2023-04-26T08:39:57.310034Z",
     "iopub.status.idle": "2023-04-26T08:39:59.058885Z",
     "shell.execute_reply": "2023-04-26T08:39:59.057893Z",
     "shell.execute_reply.started": "2023-04-26T08:39:57.310794Z"
    }
   },
   "outputs": [],
   "source": [
    "# calculate correlation matrix\n",
    "corr_matrix = chess_data_df.corr()\n",
    "\n",
    "# plot correlation matrix using a heatmap\n",
    "sns.heatmap(corr_matrix, annot=True, cmap='rocket')\n",
    "plt.title('Correlation Matrix')\n",
    "plt.show()"
   ]
  },
  {
   "cell_type": "code",
   "execution_count": null,
   "metadata": {
    "execution": {
     "iopub.execute_input": "2023-04-26T08:40:06.057097Z",
     "iopub.status.busy": "2023-04-26T08:40:06.056079Z",
     "iopub.status.idle": "2023-04-26T08:40:06.061612Z",
     "shell.execute_reply": "2023-04-26T08:40:06.060329Z",
     "shell.execute_reply.started": "2023-04-26T08:40:06.057052Z"
    }
   },
   "outputs": [],
   "source": [
    "# According to the correlation Matrix columns 'WhiteRatingDiff' and  'BlackRatingDiff' \n",
    "# have least correlation and the values just the meant the what difference in rank affects the game\n",
    "# If wins difference is positive or else difference is negative"
   ]
  },
  {
   "cell_type": "code",
   "execution_count": null,
   "metadata": {
    "execution": {
     "iopub.execute_input": "2023-04-26T08:40:06.697427Z",
     "iopub.status.busy": "2023-04-26T08:40:06.696969Z",
     "iopub.status.idle": "2023-04-26T08:40:10.298231Z",
     "shell.execute_reply": "2023-04-26T08:40:10.296731Z",
     "shell.execute_reply.started": "2023-04-26T08:40:06.697371Z"
    }
   },
   "outputs": [],
   "source": [
    "plt.figure(figsize=(8, 7))\n",
    "custom_palette = [\"#8B0000\", \"#FF8C00\", \"#FFD700\", \"#228B22\", \"#00BFFF\", \"#1E90FF\"]\n",
    "sns.countplot(y='Event', data=chess_data_df, palette=custom_palette, order=chess_data_df['Event'].value_counts().index)\n",
    "\n",
    "# set x-axis label and scale\n",
    "plt.xlabel('Count')\n",
    "plt.ticklabel_format(axis='x', style='plain', useOffset=False)\n",
    "\n",
    "# set x-axis limits and tick values\n",
    "plt.xlim(0, 3000000)\n",
    "plt.xticks([0, 500000, 1000000, 1500000, 2000000, 2500000,3000000], \n",
    "           ['0', '0.5M', '1M', '1.5M', '2M', '2.5M','3M'])\n",
    "\n",
    "# display plot\n",
    "plt.show()"
   ]
  },
  {
   "cell_type": "code",
   "execution_count": null,
   "metadata": {
    "execution": {
     "iopub.execute_input": "2023-04-26T08:40:10.302714Z",
     "iopub.status.busy": "2023-04-26T08:40:10.302070Z",
     "iopub.status.idle": "2023-04-26T08:40:11.070351Z",
     "shell.execute_reply": "2023-04-26T08:40:11.069415Z",
     "shell.execute_reply.started": "2023-04-26T08:40:10.302676Z"
    }
   },
   "outputs": [],
   "source": [
    "import pandas as pd\n",
    "import matplotlib.pyplot as plt\n",
    "\n",
    "# create a new dataframe with count of each event\n",
    "event_counts = chess_data_df['Event'].value_counts().reset_index()\n",
    "event_counts.columns = ['Event', 'Count']\n",
    "\n",
    "# create a pie chart\n",
    "fig, ax = plt.subplots(figsize=(10,10))\n",
    "ax.pie(event_counts['Count'], labels=event_counts['Event'], autopct='%1.1f%%', startangle=90, counterclock=False)\n",
    "ax.set_title('Event Distribution')\n",
    "plt.show()\n"
   ]
  },
  {
   "cell_type": "code",
   "execution_count": null,
   "metadata": {
    "execution": {
     "iopub.execute_input": "2023-04-26T08:40:13.356357Z",
     "iopub.status.busy": "2023-04-26T08:40:13.355555Z",
     "iopub.status.idle": "2023-04-26T08:40:17.384701Z",
     "shell.execute_reply": "2023-04-26T08:40:17.382955Z",
     "shell.execute_reply.started": "2023-04-26T08:40:13.356309Z"
    }
   },
   "outputs": [],
   "source": [
    "plt.figure(figsize=(10, 5))\n",
    "custom_palette = [\"#8B0000\", \"#FF8C00\", \"#FFD700\", \"#228B22\", \"#00BFFF\", \"#1E90FF\"]\n",
    "ax = sns.countplot(x='Termination', data=chess_data_df, palette=custom_palette)\n",
    "for p in ax.patches:\n",
    "    height = p.get_height()\n",
    "    ax.text(p.get_x() + p.get_width()/2., height + 3, str(round(height/1000000,2))+'M', ha='center')\n",
    "# set y-axis label and scale\n",
    "# set y-axis label and scale\n",
    "plt.ylabel('Count')\n",
    "plt.ticklabel_format(axis='y', style='plain', useOffset=False)\n",
    "\n",
    "# set y-axis limits and tick values\n",
    "plt.ylim(0, 6000000)\n",
    "plt.yticks([0, 1000000, 2000000, 3000000, 4000000, 5000000], \n",
    "           ['0', '1M', '2M', '3M', '4M', '5M'])\n",
    "plt.show()"
   ]
  },
  {
   "cell_type": "code",
   "execution_count": null,
   "metadata": {
    "execution": {
     "iopub.execute_input": "2023-04-26T08:40:17.389156Z",
     "iopub.status.busy": "2023-04-26T08:40:17.388086Z",
     "iopub.status.idle": "2023-04-26T08:40:21.285670Z",
     "shell.execute_reply": "2023-04-26T08:40:21.283677Z",
     "shell.execute_reply.started": "2023-04-26T08:40:17.389091Z"
    }
   },
   "outputs": [],
   "source": [
    "plt.figure(figsize=(10, 5))\n",
    "custom_palette = [\"#8B0000\", \"#FF8C00\", \"#FFD700\", \"#228B22\", \"#00BFFF\", \"#1E90FF\"]\n",
    "ax = sns.countplot(x='Result', data=chess_data_df, palette=custom_palette)\n",
    "for p in ax.patches:\n",
    "    height = p.get_height()\n",
    "    ax.text(p.get_x() + p.get_width()/2., height + 3, str(round(height/1000000,2))+'M', ha='center')\n",
    "# set y-axis label and scale\n",
    "# set y-axis label and scale\n",
    "plt.ylabel('Count')\n",
    "plt.ticklabel_format(axis='y', style='plain', useOffset=False)\n",
    "\n",
    "# set y-axis limits and tick values\n",
    "plt.ylim(0, 6000000)\n",
    "plt.yticks([0, 1000000, 2000000, 3000000, 4000000, 5000000], \n",
    "           ['0', '1M', '2M', '3M', '4M', '5M'])\n",
    "plt.show()"
   ]
  },
  {
   "cell_type": "code",
   "execution_count": null,
   "metadata": {
    "execution": {
     "iopub.execute_input": "2023-04-26T08:40:21.289618Z",
     "iopub.status.busy": "2023-04-26T08:40:21.288466Z",
     "iopub.status.idle": "2023-04-26T08:40:22.227680Z",
     "shell.execute_reply": "2023-04-26T08:40:22.226477Z",
     "shell.execute_reply.started": "2023-04-26T08:40:21.289537Z"
    }
   },
   "outputs": [],
   "source": [
    "# Set up the figure size and style\n",
    "sns.set(rc={'figure.figsize':(10,5)})\n",
    "sns.set_style(\"whitegrid\")\n",
    "\n",
    "# Create a list of the two columns to plot\n",
    "data = [chess_data_df['WhiteElo'], chess_data_df['BlackElo']]\n",
    "\n",
    "# Create the box plot\n",
    "bp = sns.boxplot(data=data, palette='rocket', showfliers=True, width=0.5)\n",
    "bp.set(xlabel='User Ratings', xticklabels=['WhiteElo', 'BlackElo'])\n",
    "\n",
    "# Show the plot\n",
    "plt.show()"
   ]
  },
  {
   "cell_type": "code",
   "execution_count": null,
   "metadata": {
    "execution": {
     "iopub.execute_input": "2023-04-26T08:40:22.230767Z",
     "iopub.status.busy": "2023-04-26T08:40:22.230431Z",
     "iopub.status.idle": "2023-04-26T08:40:29.851832Z",
     "shell.execute_reply": "2023-04-26T08:40:29.850490Z",
     "shell.execute_reply.started": "2023-04-26T08:40:22.230735Z"
    }
   },
   "outputs": [],
   "source": [
    "sns.histplot(chess_data_df['WhiteElo'],palette='rocket')"
   ]
  },
  {
   "cell_type": "code",
   "execution_count": null,
   "metadata": {
    "execution": {
     "iopub.execute_input": "2023-04-26T08:40:29.853750Z",
     "iopub.status.busy": "2023-04-26T08:40:29.853365Z",
     "iopub.status.idle": "2023-04-26T08:40:37.473723Z",
     "shell.execute_reply": "2023-04-26T08:40:37.472318Z",
     "shell.execute_reply.started": "2023-04-26T08:40:29.853715Z"
    }
   },
   "outputs": [],
   "source": [
    "sns.histplot(chess_data_df['BlackElo'])"
   ]
  },
  {
   "cell_type": "markdown",
   "metadata": {},
   "source": []
  },
  {
   "cell_type": "markdown",
   "metadata": {},
   "source": [
    "# Preprocessing"
   ]
  },
  {
   "cell_type": "code",
   "execution_count": null,
   "metadata": {
    "execution": {
     "iopub.execute_input": "2023-04-26T08:47:09.008560Z",
     "iopub.status.busy": "2023-04-26T08:47:09.008087Z",
     "iopub.status.idle": "2023-04-26T08:47:09.014205Z",
     "shell.execute_reply": "2023-04-26T08:47:09.013000Z",
     "shell.execute_reply.started": "2023-04-26T08:47:09.008520Z"
    }
   },
   "outputs": [],
   "source": [
    "new_chess_data_df = chess_data_df"
   ]
  },
  {
   "cell_type": "code",
   "execution_count": 89,
   "metadata": {
    "execution": {
     "iopub.execute_input": "2023-04-26T08:47:10.459802Z",
     "iopub.status.busy": "2023-04-26T08:47:10.458468Z",
     "iopub.status.idle": "2023-04-26T08:47:17.755230Z",
     "shell.execute_reply": "2023-04-26T08:47:17.753850Z",
     "shell.execute_reply.started": "2023-04-26T08:47:10.459738Z"
    }
   },
   "outputs": [
    {
     "name": "stdout",
     "output_type": "stream",
     "text": [
      "Number of rows with missing values: 0\n",
      "Percentage of rows with missing values: 0.0 %\n",
      "Number of columns with missing values: 0\n",
      "Percentage of columns with missing values: 0.0 %\n",
      "Total number of missing values: 0\n",
      "Percentage of missing values: 0.0 %\n"
     ]
    }
   ],
   "source": [
    "# Row-wise missing value analysis\n",
    "missing_values_row = new_chess_data_df.isnull().sum(axis=1)\n",
    "print(\"Number of rows with missing values:\", len(missing_values_row[missing_values_row > 0]))\n",
    "print(\"Percentage of rows with missing values:\", round(len(missing_values_row[missing_values_row > 0]) / len(chess_data_df) * 100, 2), \"%\")\n",
    "\n",
    "# Column-wise missing value analysis\n",
    "missing_values_column = new_chess_data_df.isnull().sum()\n",
    "print(\"Number of columns with missing values:\", len(missing_values_column[missing_values_column > 0]))\n",
    "print(\"Percentage of columns with missing values:\", round(len(missing_values_column[missing_values_column > 0]) / len(chess_data_df.columns) * 100, 2), \"%\")\n",
    "\n",
    "# Overall missing value analysis\n",
    "total_missing_values = new_chess_data_df.isnull().sum().sum()\n",
    "print(\"Total number of missing values:\", total_missing_values)\n",
    "print(\"Percentage of missing values:\", round(total_missing_values / (len(chess_data_df) * len(chess_data_df.columns)) * 100, 2), \"%\")"
   ]
  },
  {
   "cell_type": "code",
   "execution_count": 90,
   "metadata": {
    "execution": {
     "iopub.execute_input": "2023-04-26T08:47:17.757480Z",
     "iopub.status.busy": "2023-04-26T08:47:17.757100Z",
     "iopub.status.idle": "2023-04-26T08:47:21.001643Z",
     "shell.execute_reply": "2023-04-26T08:47:21.000266Z",
     "shell.execute_reply.started": "2023-04-26T08:47:17.757445Z"
    }
   },
   "outputs": [
    {
     "name": "stdout",
     "output_type": "stream",
     "text": [
      "Shape of dataframe after dropping NaNs: (6251516, 8)\n"
     ]
    }
   ],
   "source": [
    "# Drop all rows with NaNs\n",
    "new_chess_data_df.dropna(inplace=True)\n",
    "# Print the shape of the cleaned dataframe\n",
    "print(\"Shape of dataframe after dropping NaNs:\", new_chess_data_df.shape)"
   ]
  },
  {
   "cell_type": "code",
   "execution_count": 91,
   "metadata": {
    "execution": {
     "iopub.execute_input": "2023-04-26T08:47:24.655378Z",
     "iopub.status.busy": "2023-04-26T08:47:24.654906Z",
     "iopub.status.idle": "2023-04-26T08:47:24.686618Z",
     "shell.execute_reply": "2023-04-26T08:47:24.684541Z",
     "shell.execute_reply.started": "2023-04-26T08:47:24.655334Z"
    }
   },
   "outputs": [
    {
     "ename": "KeyError",
     "evalue": "\"['White' 'Black' 'UTCDate' 'UTCTime' 'WhiteRatingDiff' 'BlackRatingDiff'\\n 'TimeControl'] not found in axis\"",
     "output_type": "error",
     "traceback": [
      "\u001b[0;31m---------------------------------------------------------------------------\u001b[0m",
      "\u001b[0;31mKeyError\u001b[0m                                  Traceback (most recent call last)",
      "\u001b[0;32m/tmp/ipykernel_27/1600249187.py\u001b[0m in \u001b[0;36m<module>\u001b[0;34m\u001b[0m\n\u001b[1;32m      1\u001b[0m \u001b[0;31m# Drop the columns\u001b[0m\u001b[0;34m\u001b[0m\u001b[0;34m\u001b[0m\u001b[0;34m\u001b[0m\u001b[0m\n\u001b[0;32m----> 2\u001b[0;31m \u001b[0mnew_chess_data_df\u001b[0m\u001b[0;34m.\u001b[0m\u001b[0mdrop\u001b[0m\u001b[0;34m(\u001b[0m\u001b[0;34m[\u001b[0m\u001b[0;34m'White'\u001b[0m\u001b[0;34m,\u001b[0m \u001b[0;34m'Black'\u001b[0m\u001b[0;34m,\u001b[0m \u001b[0;34m'UTCDate'\u001b[0m\u001b[0;34m,\u001b[0m \u001b[0;34m'UTCTime'\u001b[0m\u001b[0;34m,\u001b[0m \u001b[0;34m'WhiteRatingDiff'\u001b[0m\u001b[0;34m,\u001b[0m \u001b[0;34m'BlackRatingDiff'\u001b[0m\u001b[0;34m,\u001b[0m \u001b[0;34m'TimeControl'\u001b[0m\u001b[0;34m]\u001b[0m\u001b[0;34m,\u001b[0m \u001b[0maxis\u001b[0m\u001b[0;34m=\u001b[0m\u001b[0;36m1\u001b[0m\u001b[0;34m,\u001b[0m \u001b[0minplace\u001b[0m\u001b[0;34m=\u001b[0m\u001b[0;32mTrue\u001b[0m\u001b[0;34m)\u001b[0m\u001b[0;34m\u001b[0m\u001b[0;34m\u001b[0m\u001b[0m\n\u001b[0m\u001b[1;32m      3\u001b[0m \u001b[0;31m# Print the updated dataframe\u001b[0m\u001b[0;34m\u001b[0m\u001b[0;34m\u001b[0m\u001b[0;34m\u001b[0m\u001b[0m\n\u001b[1;32m      4\u001b[0m \u001b[0;31m# print(chess_data_df.head())\u001b[0m\u001b[0;34m\u001b[0m\u001b[0;34m\u001b[0m\u001b[0;34m\u001b[0m\u001b[0m\n\u001b[1;32m      5\u001b[0m \u001b[0mprint\u001b[0m\u001b[0;34m(\u001b[0m\u001b[0mnew_chess_data_df\u001b[0m\u001b[0;34m.\u001b[0m\u001b[0mshape\u001b[0m\u001b[0;34m)\u001b[0m\u001b[0;34m\u001b[0m\u001b[0;34m\u001b[0m\u001b[0m\n",
      "\u001b[0;32m/opt/conda/lib/python3.7/site-packages/pandas/util/_decorators.py\u001b[0m in \u001b[0;36mwrapper\u001b[0;34m(*args, **kwargs)\u001b[0m\n\u001b[1;32m    309\u001b[0m                     \u001b[0mstacklevel\u001b[0m\u001b[0;34m=\u001b[0m\u001b[0mstacklevel\u001b[0m\u001b[0;34m,\u001b[0m\u001b[0;34m\u001b[0m\u001b[0;34m\u001b[0m\u001b[0m\n\u001b[1;32m    310\u001b[0m                 )\n\u001b[0;32m--> 311\u001b[0;31m             \u001b[0;32mreturn\u001b[0m \u001b[0mfunc\u001b[0m\u001b[0;34m(\u001b[0m\u001b[0;34m*\u001b[0m\u001b[0margs\u001b[0m\u001b[0;34m,\u001b[0m \u001b[0;34m**\u001b[0m\u001b[0mkwargs\u001b[0m\u001b[0;34m)\u001b[0m\u001b[0;34m\u001b[0m\u001b[0;34m\u001b[0m\u001b[0m\n\u001b[0m\u001b[1;32m    312\u001b[0m \u001b[0;34m\u001b[0m\u001b[0m\n\u001b[1;32m    313\u001b[0m         \u001b[0;32mreturn\u001b[0m \u001b[0mwrapper\u001b[0m\u001b[0;34m\u001b[0m\u001b[0;34m\u001b[0m\u001b[0m\n",
      "\u001b[0;32m/opt/conda/lib/python3.7/site-packages/pandas/core/frame.py\u001b[0m in \u001b[0;36mdrop\u001b[0;34m(self, labels, axis, index, columns, level, inplace, errors)\u001b[0m\n\u001b[1;32m   4911\u001b[0m             \u001b[0mlevel\u001b[0m\u001b[0;34m=\u001b[0m\u001b[0mlevel\u001b[0m\u001b[0;34m,\u001b[0m\u001b[0;34m\u001b[0m\u001b[0;34m\u001b[0m\u001b[0m\n\u001b[1;32m   4912\u001b[0m             \u001b[0minplace\u001b[0m\u001b[0;34m=\u001b[0m\u001b[0minplace\u001b[0m\u001b[0;34m,\u001b[0m\u001b[0;34m\u001b[0m\u001b[0;34m\u001b[0m\u001b[0m\n\u001b[0;32m-> 4913\u001b[0;31m             \u001b[0merrors\u001b[0m\u001b[0;34m=\u001b[0m\u001b[0merrors\u001b[0m\u001b[0;34m,\u001b[0m\u001b[0;34m\u001b[0m\u001b[0;34m\u001b[0m\u001b[0m\n\u001b[0m\u001b[1;32m   4914\u001b[0m         )\n\u001b[1;32m   4915\u001b[0m \u001b[0;34m\u001b[0m\u001b[0m\n",
      "\u001b[0;32m/opt/conda/lib/python3.7/site-packages/pandas/core/generic.py\u001b[0m in \u001b[0;36mdrop\u001b[0;34m(self, labels, axis, index, columns, level, inplace, errors)\u001b[0m\n\u001b[1;32m   4148\u001b[0m         \u001b[0;32mfor\u001b[0m \u001b[0maxis\u001b[0m\u001b[0;34m,\u001b[0m \u001b[0mlabels\u001b[0m \u001b[0;32min\u001b[0m \u001b[0maxes\u001b[0m\u001b[0;34m.\u001b[0m\u001b[0mitems\u001b[0m\u001b[0;34m(\u001b[0m\u001b[0;34m)\u001b[0m\u001b[0;34m:\u001b[0m\u001b[0;34m\u001b[0m\u001b[0;34m\u001b[0m\u001b[0m\n\u001b[1;32m   4149\u001b[0m             \u001b[0;32mif\u001b[0m \u001b[0mlabels\u001b[0m \u001b[0;32mis\u001b[0m \u001b[0;32mnot\u001b[0m \u001b[0;32mNone\u001b[0m\u001b[0;34m:\u001b[0m\u001b[0;34m\u001b[0m\u001b[0;34m\u001b[0m\u001b[0m\n\u001b[0;32m-> 4150\u001b[0;31m                 \u001b[0mobj\u001b[0m \u001b[0;34m=\u001b[0m \u001b[0mobj\u001b[0m\u001b[0;34m.\u001b[0m\u001b[0m_drop_axis\u001b[0m\u001b[0;34m(\u001b[0m\u001b[0mlabels\u001b[0m\u001b[0;34m,\u001b[0m \u001b[0maxis\u001b[0m\u001b[0;34m,\u001b[0m \u001b[0mlevel\u001b[0m\u001b[0;34m=\u001b[0m\u001b[0mlevel\u001b[0m\u001b[0;34m,\u001b[0m \u001b[0merrors\u001b[0m\u001b[0;34m=\u001b[0m\u001b[0merrors\u001b[0m\u001b[0;34m)\u001b[0m\u001b[0;34m\u001b[0m\u001b[0;34m\u001b[0m\u001b[0m\n\u001b[0m\u001b[1;32m   4151\u001b[0m \u001b[0;34m\u001b[0m\u001b[0m\n\u001b[1;32m   4152\u001b[0m         \u001b[0;32mif\u001b[0m \u001b[0minplace\u001b[0m\u001b[0;34m:\u001b[0m\u001b[0;34m\u001b[0m\u001b[0;34m\u001b[0m\u001b[0m\n",
      "\u001b[0;32m/opt/conda/lib/python3.7/site-packages/pandas/core/generic.py\u001b[0m in \u001b[0;36m_drop_axis\u001b[0;34m(self, labels, axis, level, errors)\u001b[0m\n\u001b[1;32m   4183\u001b[0m                 \u001b[0mnew_axis\u001b[0m \u001b[0;34m=\u001b[0m \u001b[0maxis\u001b[0m\u001b[0;34m.\u001b[0m\u001b[0mdrop\u001b[0m\u001b[0;34m(\u001b[0m\u001b[0mlabels\u001b[0m\u001b[0;34m,\u001b[0m \u001b[0mlevel\u001b[0m\u001b[0;34m=\u001b[0m\u001b[0mlevel\u001b[0m\u001b[0;34m,\u001b[0m \u001b[0merrors\u001b[0m\u001b[0;34m=\u001b[0m\u001b[0merrors\u001b[0m\u001b[0;34m)\u001b[0m\u001b[0;34m\u001b[0m\u001b[0;34m\u001b[0m\u001b[0m\n\u001b[1;32m   4184\u001b[0m             \u001b[0;32melse\u001b[0m\u001b[0;34m:\u001b[0m\u001b[0;34m\u001b[0m\u001b[0;34m\u001b[0m\u001b[0m\n\u001b[0;32m-> 4185\u001b[0;31m                 \u001b[0mnew_axis\u001b[0m \u001b[0;34m=\u001b[0m \u001b[0maxis\u001b[0m\u001b[0;34m.\u001b[0m\u001b[0mdrop\u001b[0m\u001b[0;34m(\u001b[0m\u001b[0mlabels\u001b[0m\u001b[0;34m,\u001b[0m \u001b[0merrors\u001b[0m\u001b[0;34m=\u001b[0m\u001b[0merrors\u001b[0m\u001b[0;34m)\u001b[0m\u001b[0;34m\u001b[0m\u001b[0;34m\u001b[0m\u001b[0m\n\u001b[0m\u001b[1;32m   4186\u001b[0m             \u001b[0mresult\u001b[0m \u001b[0;34m=\u001b[0m \u001b[0mself\u001b[0m\u001b[0;34m.\u001b[0m\u001b[0mreindex\u001b[0m\u001b[0;34m(\u001b[0m\u001b[0;34m**\u001b[0m\u001b[0;34m{\u001b[0m\u001b[0maxis_name\u001b[0m\u001b[0;34m:\u001b[0m \u001b[0mnew_axis\u001b[0m\u001b[0;34m}\u001b[0m\u001b[0;34m)\u001b[0m\u001b[0;34m\u001b[0m\u001b[0;34m\u001b[0m\u001b[0m\n\u001b[1;32m   4187\u001b[0m \u001b[0;34m\u001b[0m\u001b[0m\n",
      "\u001b[0;32m/opt/conda/lib/python3.7/site-packages/pandas/core/indexes/base.py\u001b[0m in \u001b[0;36mdrop\u001b[0;34m(self, labels, errors)\u001b[0m\n\u001b[1;32m   6015\u001b[0m         \u001b[0;32mif\u001b[0m \u001b[0mmask\u001b[0m\u001b[0;34m.\u001b[0m\u001b[0many\u001b[0m\u001b[0;34m(\u001b[0m\u001b[0;34m)\u001b[0m\u001b[0;34m:\u001b[0m\u001b[0;34m\u001b[0m\u001b[0;34m\u001b[0m\u001b[0m\n\u001b[1;32m   6016\u001b[0m             \u001b[0;32mif\u001b[0m \u001b[0merrors\u001b[0m \u001b[0;34m!=\u001b[0m \u001b[0;34m\"ignore\"\u001b[0m\u001b[0;34m:\u001b[0m\u001b[0;34m\u001b[0m\u001b[0;34m\u001b[0m\u001b[0m\n\u001b[0;32m-> 6017\u001b[0;31m                 \u001b[0;32mraise\u001b[0m \u001b[0mKeyError\u001b[0m\u001b[0;34m(\u001b[0m\u001b[0;34mf\"{labels[mask]} not found in axis\"\u001b[0m\u001b[0;34m)\u001b[0m\u001b[0;34m\u001b[0m\u001b[0;34m\u001b[0m\u001b[0m\n\u001b[0m\u001b[1;32m   6018\u001b[0m             \u001b[0mindexer\u001b[0m \u001b[0;34m=\u001b[0m \u001b[0mindexer\u001b[0m\u001b[0;34m[\u001b[0m\u001b[0;34m~\u001b[0m\u001b[0mmask\u001b[0m\u001b[0;34m]\u001b[0m\u001b[0;34m\u001b[0m\u001b[0;34m\u001b[0m\u001b[0m\n\u001b[1;32m   6019\u001b[0m         \u001b[0;32mreturn\u001b[0m \u001b[0mself\u001b[0m\u001b[0;34m.\u001b[0m\u001b[0mdelete\u001b[0m\u001b[0;34m(\u001b[0m\u001b[0mindexer\u001b[0m\u001b[0;34m)\u001b[0m\u001b[0;34m\u001b[0m\u001b[0;34m\u001b[0m\u001b[0m\n",
      "\u001b[0;31mKeyError\u001b[0m: \"['White' 'Black' 'UTCDate' 'UTCTime' 'WhiteRatingDiff' 'BlackRatingDiff'\\n 'TimeControl'] not found in axis\""
     ]
    }
   ],
   "source": [
    "# Drop the columns\n",
    "new_chess_data_df.drop(['White', 'Black', 'UTCDate', 'UTCTime', 'WhiteRatingDiff', 'BlackRatingDiff', 'TimeControl'], axis=1, inplace=True)\n",
    "# Print the updated dataframe\n",
    "# print(chess_data_df.head())\n",
    "print(new_chess_data_df.shape)\n",
    "# filter the rows based on the condition\n",
    "new_chess_data_df = new_chess_data_df[(new_chess_data_df['AN'].str.len() >= 40) & (~new_chess_data_df['AN'].str.contains('{'))]\n",
    "# reset the index after dropping the rows\n",
    "new_chess_data_df.reset_index(drop=True, inplace=True)\n",
    "print(new_chess_data_df.shape)"
   ]
  },
  {
   "cell_type": "code",
   "execution_count": 92,
   "metadata": {
    "execution": {
     "iopub.execute_input": "2023-04-26T08:47:32.218903Z",
     "iopub.status.busy": "2023-04-26T08:47:32.218493Z",
     "iopub.status.idle": "2023-04-26T08:47:32.226007Z",
     "shell.execute_reply": "2023-04-26T08:47:32.224478Z",
     "shell.execute_reply.started": "2023-04-26T08:47:32.218869Z"
    }
   },
   "outputs": [
    {
     "name": "stdout",
     "output_type": "stream",
     "text": [
      "Index(['Event', 'Result', 'WhiteElo', 'BlackElo', 'ECO', 'Opening',\n",
      "       'Termination', 'AN'],\n",
      "      dtype='object')\n"
     ]
    }
   ],
   "source": [
    "print(new_chess_data_df.columns)"
   ]
  },
  {
   "cell_type": "code",
   "execution_count": 93,
   "metadata": {
    "execution": {
     "iopub.execute_input": "2023-04-26T08:47:35.260128Z",
     "iopub.status.busy": "2023-04-26T08:47:35.259709Z",
     "iopub.status.idle": "2023-04-26T08:50:11.296429Z",
     "shell.execute_reply": "2023-04-26T08:50:11.295487Z",
     "shell.execute_reply.started": "2023-04-26T08:47:35.260093Z"
    }
   },
   "outputs": [
    {
     "name": "stdout",
     "output_type": "stream",
     "text": [
      "          w1   b1    w2    b2    w3    b3\n",
      "0         d4   d5    c4    c6    e3    a6\n",
      "1         e4   e5    b3   Nf6   Bb2   Nc6\n",
      "2         e4   d5  exd5  Qxd5   Nf3   Bg4\n",
      "3         e3  Nf6   Bc4    d6    e4    e6\n",
      "4         e4   c5   Nf3    d6    d4  cxd4\n",
      "...      ...  ...   ...   ...   ...   ...\n",
      "5389162   e4   e5   Qf3   Nc6   Bc4   Nf6\n",
      "5389163   e4   c5   Nf3    d6    d4  Qa5+\n",
      "5389164   e4   e5   Nf3    h6   Nc3    d6\n",
      "5389165  Nf3   d5    c4  dxc4  Qa4+    c6\n",
      "5389166   e4   e6    d4    d6   Nc3    c6\n",
      "\n",
      "[5389167 rows x 6 columns]\n"
     ]
    }
   ],
   "source": [
    "an_val = new_chess_data_df['AN']\n",
    "# initialize dataframe with empty values\n",
    "#print(an_val[0])\n",
    "# loop through each game and extract the first 3 moves\n",
    "dflist = []\n",
    "for i, game in enumerate(an_val):\n",
    "    itr = 0\n",
    "    temp = []\n",
    "    flag = 1\n",
    "    tstr = ''\n",
    "    if(len(game)<40 or '{' in game):\n",
    "        continue\n",
    "    #print(len(game), game)\n",
    "    while(flag and itr<len(game)):\n",
    "        if game[itr] == \" \":\n",
    "            temp.append(tstr)\n",
    "            tstr = ''\n",
    "        else:\n",
    "            tstr += game[itr]\n",
    "        itr+=1\n",
    "        if(itr+1<len(game)):\n",
    "            if(game[itr]=='4' and game[itr+1]=='.'):\n",
    "                flag = 0\n",
    "    #print(temp)\n",
    "    temp1 = []\n",
    "    for i in range(0,len(temp)):\n",
    "        if i!=0 and i!=3 and i!=6:\n",
    "            temp1.append(temp[i])\n",
    "    dflist.append(temp1)\n",
    "df = pd.DataFrame(dflist, columns=['w1', 'b1', 'w2', 'b2', 'w3', 'b3'])\n",
    "print(df)"
   ]
  },
  {
   "cell_type": "code",
   "execution_count": 94,
   "metadata": {
    "execution": {
     "iopub.execute_input": "2023-04-26T08:50:44.389606Z",
     "iopub.status.busy": "2023-04-26T08:50:44.389131Z",
     "iopub.status.idle": "2023-04-26T08:50:48.060826Z",
     "shell.execute_reply": "2023-04-26T08:50:48.059566Z",
     "shell.execute_reply.started": "2023-04-26T08:50:44.389562Z"
    }
   },
   "outputs": [
    {
     "name": "stdout",
     "output_type": "stream",
     "text": [
      "                      Event   Result  WhiteElo  BlackElo  ECO  \\\n",
      "0                Classical       1-0      1901      1896  D10   \n",
      "1                    Blitz       0-1      1641      1627  C20   \n",
      "2         Blitz tournament       1-0      1647      1688  B01   \n",
      "3           Correspondence       1-0      1706      1317  A00   \n",
      "4         Blitz tournament       0-1      1945      1900  B90   \n",
      "...                     ...      ...       ...       ...  ...   \n",
      "5389162              Blitz       1-0      1594      1696  A00   \n",
      "5389163              Blitz   1/2-1/2      1876      2089  B12   \n",
      "5389164              Blitz       1-0      2085      1987  C53   \n",
      "5389165             Bullet       0-1      2007      2366  A00   \n",
      "5389166          Classical       0-1      2054      2009  B40   \n",
      "\n",
      "                                                   Opening   Termination  \\\n",
      "0                                             Slav Defense  Time forfeit   \n",
      "1                                King's Pawn Opening: 2.b3        Normal   \n",
      "2            Scandinavian Defense: Mieses-Kotroc Variation  Time forfeit   \n",
      "3                                     Van't Kruijs Opening        Normal   \n",
      "4              Sicilian Defense: Najdorf, Lipnitsky Attack  Time forfeit   \n",
      "...                                                    ...           ...   \n",
      "5389162                                     Mieses Opening        Normal   \n",
      "5389163               Caro-Kann Defense: Advance Variation        Normal   \n",
      "5389164  Italian Game: Classical Variation, Giuoco Pian...  Time forfeit   \n",
      "5389165                                     Mieses Opening        Normal   \n",
      "5389166                 Sicilian Defense: French Variation        Normal   \n",
      "\n",
      "                                                        AN   w1   b1    w2  \\\n",
      "0        1. d4 d5 2. c4 c6 3. e3 a6 4. Nf3 e5 5. cxd5 e...   d4   d5    c4   \n",
      "1        1. e4 e5 2. b3 Nf6 3. Bb2 Nc6 4. Nf3 d6 5. d3 ...   e4   e5    b3   \n",
      "2        1. e4 d5 2. exd5 Qxd5 3. Nf3 Bg4 4. Be2 Nf6 5....   e4   d5  exd5   \n",
      "3        1. e3 Nf6 2. Bc4 d6 3. e4 e6 4. Nf3 Nxe4 5. Nd...   e3  Nf6   Bc4   \n",
      "4        1. e4 c5 2. Nf3 d6 3. d4 cxd4 4. Nxd4 Nf6 5. N...   e4   c5   Nf3   \n",
      "...                                                    ...  ...  ...   ...   \n",
      "5389162  1. d3 d5 2. c3 a6 3. Qc2 Bd7 4. g3 e6 5. Bg2 c...   e4   e5   Qf3   \n",
      "5389163  1. e4 c6 2. d4 d5 3. e5 Bf5 4. Bd3 Bxd3 5. cxd...   e4   c5   Nf3   \n",
      "5389164  1. e4 e5 2. Bc4 Bc5 3. Nf3 Nc6 4. c3 Nf6 5. d3...   e4   e5   Nf3   \n",
      "5389165  1. d3 Nf6 2. Nf3 g6 3. Bg5 Bg7 4. Bxf6 Bxf6 5....  Nf3   d5    c4   \n",
      "5389166  1. e4 c5 2. Nf3 e6 3. Bc4 a6 4. a3 Nc6 5. Nc3 ...   e4   e6    d4   \n",
      "\n",
      "           b2    w3    b3  \n",
      "0          c6    e3    a6  \n",
      "1         Nf6   Bb2   Nc6  \n",
      "2        Qxd5   Nf3   Bg4  \n",
      "3          d6    e4    e6  \n",
      "4          d6    d4  cxd4  \n",
      "...       ...   ...   ...  \n",
      "5389162   Nc6   Bc4   Nf6  \n",
      "5389163    d6    d4  Qa5+  \n",
      "5389164    h6   Nc3    d6  \n",
      "5389165  dxc4  Qa4+    c6  \n",
      "5389166    d6   Nc3    c6  \n",
      "\n",
      "[5385099 rows x 14 columns]\n"
     ]
    }
   ],
   "source": [
    "# merge the two dataframes on their indices\n",
    "merged_df = pd.merge(new_chess_data_df, df, left_index=True, right_index=True)\n",
    "print(merged_df)"
   ]
  },
  {
   "cell_type": "code",
   "execution_count": 95,
   "metadata": {
    "execution": {
     "iopub.execute_input": "2023-04-26T08:50:57.519711Z",
     "iopub.status.busy": "2023-04-26T08:50:57.519096Z",
     "iopub.status.idle": "2023-04-26T08:51:03.623616Z",
     "shell.execute_reply": "2023-04-26T08:51:03.622365Z",
     "shell.execute_reply.started": "2023-04-26T08:50:57.519664Z"
    }
   },
   "outputs": [
    {
     "data": {
      "text/html": [
       "<div>\n",
       "<style scoped>\n",
       "    .dataframe tbody tr th:only-of-type {\n",
       "        vertical-align: middle;\n",
       "    }\n",
       "\n",
       "    .dataframe tbody tr th {\n",
       "        vertical-align: top;\n",
       "    }\n",
       "\n",
       "    .dataframe thead th {\n",
       "        text-align: right;\n",
       "    }\n",
       "</style>\n",
       "<table border=\"1\" class=\"dataframe\">\n",
       "  <thead>\n",
       "    <tr style=\"text-align: right;\">\n",
       "      <th></th>\n",
       "      <th>Result</th>\n",
       "      <th>WhiteElo</th>\n",
       "      <th>BlackElo</th>\n",
       "      <th>w1</th>\n",
       "      <th>b1</th>\n",
       "      <th>w2</th>\n",
       "      <th>b2</th>\n",
       "      <th>w3</th>\n",
       "      <th>b3</th>\n",
       "    </tr>\n",
       "  </thead>\n",
       "  <tbody>\n",
       "    <tr>\n",
       "      <th>0</th>\n",
       "      <td>1-0</td>\n",
       "      <td>1901</td>\n",
       "      <td>1896</td>\n",
       "      <td>d4</td>\n",
       "      <td>d5</td>\n",
       "      <td>c4</td>\n",
       "      <td>c6</td>\n",
       "      <td>e3</td>\n",
       "      <td>a6</td>\n",
       "    </tr>\n",
       "    <tr>\n",
       "      <th>1</th>\n",
       "      <td>0-1</td>\n",
       "      <td>1641</td>\n",
       "      <td>1627</td>\n",
       "      <td>e4</td>\n",
       "      <td>e5</td>\n",
       "      <td>b3</td>\n",
       "      <td>Nf6</td>\n",
       "      <td>Bb2</td>\n",
       "      <td>Nc6</td>\n",
       "    </tr>\n",
       "    <tr>\n",
       "      <th>2</th>\n",
       "      <td>1-0</td>\n",
       "      <td>1647</td>\n",
       "      <td>1688</td>\n",
       "      <td>e4</td>\n",
       "      <td>d5</td>\n",
       "      <td>exd5</td>\n",
       "      <td>Qxd5</td>\n",
       "      <td>Nf3</td>\n",
       "      <td>Bg4</td>\n",
       "    </tr>\n",
       "    <tr>\n",
       "      <th>3</th>\n",
       "      <td>1-0</td>\n",
       "      <td>1706</td>\n",
       "      <td>1317</td>\n",
       "      <td>e3</td>\n",
       "      <td>Nf6</td>\n",
       "      <td>Bc4</td>\n",
       "      <td>d6</td>\n",
       "      <td>e4</td>\n",
       "      <td>e6</td>\n",
       "    </tr>\n",
       "    <tr>\n",
       "      <th>4</th>\n",
       "      <td>0-1</td>\n",
       "      <td>1945</td>\n",
       "      <td>1900</td>\n",
       "      <td>e4</td>\n",
       "      <td>c5</td>\n",
       "      <td>Nf3</td>\n",
       "      <td>d6</td>\n",
       "      <td>d4</td>\n",
       "      <td>cxd4</td>\n",
       "    </tr>\n",
       "    <tr>\n",
       "      <th>...</th>\n",
       "      <td>...</td>\n",
       "      <td>...</td>\n",
       "      <td>...</td>\n",
       "      <td>...</td>\n",
       "      <td>...</td>\n",
       "      <td>...</td>\n",
       "      <td>...</td>\n",
       "      <td>...</td>\n",
       "      <td>...</td>\n",
       "    </tr>\n",
       "    <tr>\n",
       "      <th>5389162</th>\n",
       "      <td>1-0</td>\n",
       "      <td>1594</td>\n",
       "      <td>1696</td>\n",
       "      <td>e4</td>\n",
       "      <td>e5</td>\n",
       "      <td>Qf3</td>\n",
       "      <td>Nc6</td>\n",
       "      <td>Bc4</td>\n",
       "      <td>Nf6</td>\n",
       "    </tr>\n",
       "    <tr>\n",
       "      <th>5389163</th>\n",
       "      <td>1/2-1/2</td>\n",
       "      <td>1876</td>\n",
       "      <td>2089</td>\n",
       "      <td>e4</td>\n",
       "      <td>c5</td>\n",
       "      <td>Nf3</td>\n",
       "      <td>d6</td>\n",
       "      <td>d4</td>\n",
       "      <td>Qa5+</td>\n",
       "    </tr>\n",
       "    <tr>\n",
       "      <th>5389164</th>\n",
       "      <td>1-0</td>\n",
       "      <td>2085</td>\n",
       "      <td>1987</td>\n",
       "      <td>e4</td>\n",
       "      <td>e5</td>\n",
       "      <td>Nf3</td>\n",
       "      <td>h6</td>\n",
       "      <td>Nc3</td>\n",
       "      <td>d6</td>\n",
       "    </tr>\n",
       "    <tr>\n",
       "      <th>5389165</th>\n",
       "      <td>0-1</td>\n",
       "      <td>2007</td>\n",
       "      <td>2366</td>\n",
       "      <td>Nf3</td>\n",
       "      <td>d5</td>\n",
       "      <td>c4</td>\n",
       "      <td>dxc4</td>\n",
       "      <td>Qa4+</td>\n",
       "      <td>c6</td>\n",
       "    </tr>\n",
       "    <tr>\n",
       "      <th>5389166</th>\n",
       "      <td>0-1</td>\n",
       "      <td>2054</td>\n",
       "      <td>2009</td>\n",
       "      <td>e4</td>\n",
       "      <td>e6</td>\n",
       "      <td>d4</td>\n",
       "      <td>d6</td>\n",
       "      <td>Nc3</td>\n",
       "      <td>c6</td>\n",
       "    </tr>\n",
       "  </tbody>\n",
       "</table>\n",
       "<p>5385099 rows × 9 columns</p>\n",
       "</div>"
      ],
      "text/plain": [
       "          Result  WhiteElo  BlackElo   w1   b1    w2    b2    w3    b3\n",
       "0            1-0      1901      1896   d4   d5    c4    c6    e3    a6\n",
       "1            0-1      1641      1627   e4   e5    b3   Nf6   Bb2   Nc6\n",
       "2            1-0      1647      1688   e4   d5  exd5  Qxd5   Nf3   Bg4\n",
       "3            1-0      1706      1317   e3  Nf6   Bc4    d6    e4    e6\n",
       "4            0-1      1945      1900   e4   c5   Nf3    d6    d4  cxd4\n",
       "...          ...       ...       ...  ...  ...   ...   ...   ...   ...\n",
       "5389162      1-0      1594      1696   e4   e5   Qf3   Nc6   Bc4   Nf6\n",
       "5389163  1/2-1/2      1876      2089   e4   c5   Nf3    d6    d4  Qa5+\n",
       "5389164      1-0      2085      1987   e4   e5   Nf3    h6   Nc3    d6\n",
       "5389165      0-1      2007      2366  Nf3   d5    c4  dxc4  Qa4+    c6\n",
       "5389166      0-1      2054      2009   e4   e6    d4    d6   Nc3    c6\n",
       "\n",
       "[5385099 rows x 9 columns]"
      ]
     },
     "execution_count": 95,
     "metadata": {},
     "output_type": "execute_result"
    }
   ],
   "source": [
    "new_df = merged_df\n",
    "new_df.drop(['Event', 'AN', 'Opening', 'Termination', 'ECO'], axis=1, inplace=True)\n",
    "new_df"
   ]
  },
  {
   "cell_type": "code",
   "execution_count": 96,
   "metadata": {
    "execution": {
     "iopub.execute_input": "2023-04-26T08:51:09.364707Z",
     "iopub.status.busy": "2023-04-26T08:51:09.364078Z",
     "iopub.status.idle": "2023-04-26T08:51:10.886817Z",
     "shell.execute_reply": "2023-04-26T08:51:10.885589Z",
     "shell.execute_reply.started": "2023-04-26T08:51:09.364656Z"
    }
   },
   "outputs": [
    {
     "data": {
      "text/html": [
       "<div>\n",
       "<style scoped>\n",
       "    .dataframe tbody tr th:only-of-type {\n",
       "        vertical-align: middle;\n",
       "    }\n",
       "\n",
       "    .dataframe tbody tr th {\n",
       "        vertical-align: top;\n",
       "    }\n",
       "\n",
       "    .dataframe thead th {\n",
       "        text-align: right;\n",
       "    }\n",
       "</style>\n",
       "<table border=\"1\" class=\"dataframe\">\n",
       "  <thead>\n",
       "    <tr style=\"text-align: right;\">\n",
       "      <th></th>\n",
       "      <th>Result</th>\n",
       "      <th>WhiteElo</th>\n",
       "      <th>BlackElo</th>\n",
       "      <th>w1</th>\n",
       "      <th>b1</th>\n",
       "      <th>w2</th>\n",
       "      <th>b2</th>\n",
       "      <th>w3</th>\n",
       "      <th>b3</th>\n",
       "    </tr>\n",
       "  </thead>\n",
       "  <tbody>\n",
       "    <tr>\n",
       "      <th>0</th>\n",
       "      <td>1</td>\n",
       "      <td>1901</td>\n",
       "      <td>1896</td>\n",
       "      <td>d4</td>\n",
       "      <td>d5</td>\n",
       "      <td>c4</td>\n",
       "      <td>c6</td>\n",
       "      <td>e3</td>\n",
       "      <td>a6</td>\n",
       "    </tr>\n",
       "    <tr>\n",
       "      <th>1</th>\n",
       "      <td>0</td>\n",
       "      <td>1641</td>\n",
       "      <td>1627</td>\n",
       "      <td>e4</td>\n",
       "      <td>e5</td>\n",
       "      <td>b3</td>\n",
       "      <td>Nf6</td>\n",
       "      <td>Bb2</td>\n",
       "      <td>Nc6</td>\n",
       "    </tr>\n",
       "    <tr>\n",
       "      <th>2</th>\n",
       "      <td>1</td>\n",
       "      <td>1647</td>\n",
       "      <td>1688</td>\n",
       "      <td>e4</td>\n",
       "      <td>d5</td>\n",
       "      <td>exd5</td>\n",
       "      <td>Qxd5</td>\n",
       "      <td>Nf3</td>\n",
       "      <td>Bg4</td>\n",
       "    </tr>\n",
       "    <tr>\n",
       "      <th>3</th>\n",
       "      <td>1</td>\n",
       "      <td>1706</td>\n",
       "      <td>1317</td>\n",
       "      <td>e3</td>\n",
       "      <td>Nf6</td>\n",
       "      <td>Bc4</td>\n",
       "      <td>d6</td>\n",
       "      <td>e4</td>\n",
       "      <td>e6</td>\n",
       "    </tr>\n",
       "    <tr>\n",
       "      <th>4</th>\n",
       "      <td>0</td>\n",
       "      <td>1945</td>\n",
       "      <td>1900</td>\n",
       "      <td>e4</td>\n",
       "      <td>c5</td>\n",
       "      <td>Nf3</td>\n",
       "      <td>d6</td>\n",
       "      <td>d4</td>\n",
       "      <td>cxd4</td>\n",
       "    </tr>\n",
       "    <tr>\n",
       "      <th>...</th>\n",
       "      <td>...</td>\n",
       "      <td>...</td>\n",
       "      <td>...</td>\n",
       "      <td>...</td>\n",
       "      <td>...</td>\n",
       "      <td>...</td>\n",
       "      <td>...</td>\n",
       "      <td>...</td>\n",
       "      <td>...</td>\n",
       "    </tr>\n",
       "    <tr>\n",
       "      <th>5389162</th>\n",
       "      <td>1</td>\n",
       "      <td>1594</td>\n",
       "      <td>1696</td>\n",
       "      <td>e4</td>\n",
       "      <td>e5</td>\n",
       "      <td>Qf3</td>\n",
       "      <td>Nc6</td>\n",
       "      <td>Bc4</td>\n",
       "      <td>Nf6</td>\n",
       "    </tr>\n",
       "    <tr>\n",
       "      <th>5389163</th>\n",
       "      <td>2</td>\n",
       "      <td>1876</td>\n",
       "      <td>2089</td>\n",
       "      <td>e4</td>\n",
       "      <td>c5</td>\n",
       "      <td>Nf3</td>\n",
       "      <td>d6</td>\n",
       "      <td>d4</td>\n",
       "      <td>Qa5+</td>\n",
       "    </tr>\n",
       "    <tr>\n",
       "      <th>5389164</th>\n",
       "      <td>1</td>\n",
       "      <td>2085</td>\n",
       "      <td>1987</td>\n",
       "      <td>e4</td>\n",
       "      <td>e5</td>\n",
       "      <td>Nf3</td>\n",
       "      <td>h6</td>\n",
       "      <td>Nc3</td>\n",
       "      <td>d6</td>\n",
       "    </tr>\n",
       "    <tr>\n",
       "      <th>5389165</th>\n",
       "      <td>0</td>\n",
       "      <td>2007</td>\n",
       "      <td>2366</td>\n",
       "      <td>Nf3</td>\n",
       "      <td>d5</td>\n",
       "      <td>c4</td>\n",
       "      <td>dxc4</td>\n",
       "      <td>Qa4+</td>\n",
       "      <td>c6</td>\n",
       "    </tr>\n",
       "    <tr>\n",
       "      <th>5389166</th>\n",
       "      <td>0</td>\n",
       "      <td>2054</td>\n",
       "      <td>2009</td>\n",
       "      <td>e4</td>\n",
       "      <td>e6</td>\n",
       "      <td>d4</td>\n",
       "      <td>d6</td>\n",
       "      <td>Nc3</td>\n",
       "      <td>c6</td>\n",
       "    </tr>\n",
       "  </tbody>\n",
       "</table>\n",
       "<p>5385099 rows × 9 columns</p>\n",
       "</div>"
      ],
      "text/plain": [
       "        Result  WhiteElo  BlackElo   w1   b1    w2    b2    w3    b3\n",
       "0            1      1901      1896   d4   d5    c4    c6    e3    a6\n",
       "1            0      1641      1627   e4   e5    b3   Nf6   Bb2   Nc6\n",
       "2            1      1647      1688   e4   d5  exd5  Qxd5   Nf3   Bg4\n",
       "3            1      1706      1317   e3  Nf6   Bc4    d6    e4    e6\n",
       "4            0      1945      1900   e4   c5   Nf3    d6    d4  cxd4\n",
       "...        ...       ...       ...  ...  ...   ...   ...   ...   ...\n",
       "5389162      1      1594      1696   e4   e5   Qf3   Nc6   Bc4   Nf6\n",
       "5389163      2      1876      2089   e4   c5   Nf3    d6    d4  Qa5+\n",
       "5389164      1      2085      1987   e4   e5   Nf3    h6   Nc3    d6\n",
       "5389165      0      2007      2366  Nf3   d5    c4  dxc4  Qa4+    c6\n",
       "5389166      0      2054      2009   e4   e6    d4    d6   Nc3    c6\n",
       "\n",
       "[5385099 rows x 9 columns]"
      ]
     },
     "execution_count": 96,
     "metadata": {},
     "output_type": "execute_result"
    }
   ],
   "source": [
    "# create a mapping dictionary to replace the values\n",
    "mapping_dict = {'1-0': 1, '0-1': 0, '1/2-1/2': 2}\n",
    "\n",
    "# replace the values in the 'Result' column using the mapping dictionary\n",
    "new_df['Result'] = new_df['Result'].replace(mapping_dict)\n",
    "new_df"
   ]
  },
  {
   "cell_type": "code",
   "execution_count": 97,
   "metadata": {
    "execution": {
     "iopub.execute_input": "2023-04-26T08:51:14.478265Z",
     "iopub.status.busy": "2023-04-26T08:51:14.477050Z",
     "iopub.status.idle": "2023-04-26T08:51:14.650200Z",
     "shell.execute_reply": "2023-04-26T08:51:14.649116Z",
     "shell.execute_reply.started": "2023-04-26T08:51:14.478204Z"
    }
   },
   "outputs": [
    {
     "data": {
      "text/plain": [
       "array([1, 0, 2, '*'], dtype=object)"
      ]
     },
     "execution_count": 97,
     "metadata": {},
     "output_type": "execute_result"
    }
   ],
   "source": [
    "new_df['Result'].unique()"
   ]
  },
  {
   "cell_type": "code",
   "execution_count": 98,
   "metadata": {
    "execution": {
     "iopub.execute_input": "2023-04-26T08:51:18.417972Z",
     "iopub.status.busy": "2023-04-26T08:51:18.417266Z",
     "iopub.status.idle": "2023-04-26T08:51:22.302877Z",
     "shell.execute_reply": "2023-04-26T08:51:22.301500Z",
     "shell.execute_reply.started": "2023-04-26T08:51:18.417928Z"
    }
   },
   "outputs": [
    {
     "name": "stdout",
     "output_type": "stream",
     "text": [
      "        Result  WhiteElo  BlackElo   w1   b1    w2    b2    w3    b3\n",
      "0            1      1901      1896   d4   d5    c4    c6    e3    a6\n",
      "1            0      1641      1627   e4   e5    b3   Nf6   Bb2   Nc6\n",
      "2            1      1647      1688   e4   d5  exd5  Qxd5   Nf3   Bg4\n",
      "3            1      1706      1317   e3  Nf6   Bc4    d6    e4    e6\n",
      "4            0      1945      1900   e4   c5   Nf3    d6    d4  cxd4\n",
      "...        ...       ...       ...  ...  ...   ...   ...   ...   ...\n",
      "5389161      1      1451      1452   e4   c5   Nc3   Nc6   Nf3    e6\n",
      "5389162      1      1594      1696   e4   e5   Qf3   Nc6   Bc4   Nf6\n",
      "5389164      1      2085      1987   e4   e5   Nf3    h6   Nc3    d6\n",
      "5389165      0      2007      2366  Nf3   d5    c4  dxc4  Qa4+    c6\n",
      "5389166      0      2054      2009   e4   e6    d4    d6   Nc3    c6\n",
      "\n",
      "[5180179 rows x 9 columns]\n"
     ]
    },
    {
     "data": {
      "text/plain": [
       "array([1, 0], dtype=object)"
      ]
     },
     "execution_count": 98,
     "metadata": {},
     "output_type": "execute_result"
    }
   ],
   "source": [
    "new_df = new_df.loc[new_df['Result'] != 2]\n",
    "new_df = new_df.loc[new_df['Result'] != '*']\n",
    "print(new_df)\n",
    "new_df['Result'].unique()"
   ]
  },
  {
   "cell_type": "code",
   "execution_count": 99,
   "metadata": {
    "execution": {
     "iopub.execute_input": "2023-04-26T08:52:18.347981Z",
     "iopub.status.busy": "2023-04-26T08:52:18.347507Z",
     "iopub.status.idle": "2023-04-26T08:52:32.152607Z",
     "shell.execute_reply": "2023-04-26T08:52:32.151224Z",
     "shell.execute_reply.started": "2023-04-26T08:52:18.347936Z"
    }
   },
   "outputs": [
    {
     "name": "stdout",
     "output_type": "stream",
     "text": [
      "1    25870\n",
      "0    24130\n",
      "Name: Result, dtype: int64\n"
     ]
    }
   ],
   "source": [
    "from sklearn.model_selection import train_test_split\n",
    "import pandas as pd\n",
    "\n",
    "# Create a new dataframe with only the features and target variable\n",
    "X = new_df.drop(\"Result\", axis=1)\n",
    "y = new_df[\"Result\"]\n",
    "\n",
    "# Use train_test_split to get a stratified sample of 50000 rows\n",
    "X, _, y, _ = train_test_split(X, y, train_size=50000, stratify=y)\n",
    "\n",
    "# Print the value counts of the target variable in the stratified sample\n",
    "print(y.value_counts())\n"
   ]
  },
  {
   "cell_type": "code",
   "execution_count": 100,
   "metadata": {
    "execution": {
     "iopub.execute_input": "2023-04-26T08:52:36.376834Z",
     "iopub.status.busy": "2023-04-26T08:52:36.375236Z",
     "iopub.status.idle": "2023-04-26T08:52:36.399656Z",
     "shell.execute_reply": "2023-04-26T08:52:36.397074Z",
     "shell.execute_reply.started": "2023-04-26T08:52:36.376766Z"
    }
   },
   "outputs": [
    {
     "name": "stdout",
     "output_type": "stream",
     "text": [
      "         WhiteElo  BlackElo  w1  b1    w2    b2     w3    b3\n",
      "1641298      1832      1658  e4  c5   Bc4    a6  Bxf7+  Kxf7\n",
      "3019528      1866      1608  e4  e5   Nf3   Nc6     d4  exd4\n",
      "1356188      1951      2017  d4  c6    c4    e6     e3    d5\n",
      "861119       1532      1518  e4  e5   Nf3   Nc6    Bb5    d6\n",
      "2025386      1330      1344  c4  e5   Nc3   Bb4     g3    d6\n",
      "...           ...       ...  ..  ..   ...   ...    ...   ...\n",
      "2691909      1477      1442  e4  c5    a3   Nc6     b4  cxb4\n",
      "1774779      1662      1632  e4  d5  exd5  Qxd5    Nc3   Qd8\n",
      "122956       1866      1773  e4  d5  exd5  Qxd5    Nc3   Qd8\n",
      "4890624      1907      1922  e4  d5   Nc3  dxe4   Nxe4   Nf6\n",
      "3100231      1629      1603  e4  e5   Nf3   Nc6    Bb5   Nd4\n",
      "\n",
      "[50000 rows x 8 columns]\n",
      "1641298    0\n",
      "3019528    1\n",
      "1356188    0\n",
      "861119     1\n",
      "2025386    0\n",
      "          ..\n",
      "2691909    0\n",
      "1774779    1\n",
      "122956     1\n",
      "4890624    1\n",
      "3100231    0\n",
      "Name: Result, Length: 50000, dtype: object\n"
     ]
    }
   ],
   "source": [
    "print(X)\n",
    "print(y)"
   ]
  },
  {
   "cell_type": "code",
   "execution_count": 101,
   "metadata": {
    "execution": {
     "iopub.execute_input": "2023-04-26T08:52:53.572020Z",
     "iopub.status.busy": "2023-04-26T08:52:53.571431Z",
     "iopub.status.idle": "2023-04-26T08:52:54.558820Z",
     "shell.execute_reply": "2023-04-26T08:52:54.557465Z",
     "shell.execute_reply.started": "2023-04-26T08:52:53.571972Z"
    }
   },
   "outputs": [
    {
     "data": {
      "text/html": [
       "<div>\n",
       "<style scoped>\n",
       "    .dataframe tbody tr th:only-of-type {\n",
       "        vertical-align: middle;\n",
       "    }\n",
       "\n",
       "    .dataframe tbody tr th {\n",
       "        vertical-align: top;\n",
       "    }\n",
       "\n",
       "    .dataframe thead th {\n",
       "        text-align: right;\n",
       "    }\n",
       "</style>\n",
       "<table border=\"1\" class=\"dataframe\">\n",
       "  <thead>\n",
       "    <tr style=\"text-align: right;\">\n",
       "      <th></th>\n",
       "      <th>WhiteElo</th>\n",
       "      <th>BlackElo</th>\n",
       "      <th>w1</th>\n",
       "      <th>b1</th>\n",
       "      <th>w2</th>\n",
       "      <th>b2</th>\n",
       "      <th>w3</th>\n",
       "      <th>b3</th>\n",
       "      <th>Result</th>\n",
       "    </tr>\n",
       "  </thead>\n",
       "  <tbody>\n",
       "    <tr>\n",
       "      <th>0</th>\n",
       "      <td>1832</td>\n",
       "      <td>1658</td>\n",
       "      <td>e4</td>\n",
       "      <td>c5</td>\n",
       "      <td>Bc4</td>\n",
       "      <td>a6</td>\n",
       "      <td>Bxf7+</td>\n",
       "      <td>Kxf7</td>\n",
       "      <td>0</td>\n",
       "    </tr>\n",
       "    <tr>\n",
       "      <th>1</th>\n",
       "      <td>1866</td>\n",
       "      <td>1608</td>\n",
       "      <td>e4</td>\n",
       "      <td>e5</td>\n",
       "      <td>Nf3</td>\n",
       "      <td>Nc6</td>\n",
       "      <td>d4</td>\n",
       "      <td>exd4</td>\n",
       "      <td>1</td>\n",
       "    </tr>\n",
       "    <tr>\n",
       "      <th>2</th>\n",
       "      <td>1951</td>\n",
       "      <td>2017</td>\n",
       "      <td>d4</td>\n",
       "      <td>c6</td>\n",
       "      <td>c4</td>\n",
       "      <td>e6</td>\n",
       "      <td>e3</td>\n",
       "      <td>d5</td>\n",
       "      <td>0</td>\n",
       "    </tr>\n",
       "    <tr>\n",
       "      <th>3</th>\n",
       "      <td>1532</td>\n",
       "      <td>1518</td>\n",
       "      <td>e4</td>\n",
       "      <td>e5</td>\n",
       "      <td>Nf3</td>\n",
       "      <td>Nc6</td>\n",
       "      <td>Bb5</td>\n",
       "      <td>d6</td>\n",
       "      <td>1</td>\n",
       "    </tr>\n",
       "    <tr>\n",
       "      <th>4</th>\n",
       "      <td>1330</td>\n",
       "      <td>1344</td>\n",
       "      <td>c4</td>\n",
       "      <td>e5</td>\n",
       "      <td>Nc3</td>\n",
       "      <td>Bb4</td>\n",
       "      <td>g3</td>\n",
       "      <td>d6</td>\n",
       "      <td>0</td>\n",
       "    </tr>\n",
       "    <tr>\n",
       "      <th>...</th>\n",
       "      <td>...</td>\n",
       "      <td>...</td>\n",
       "      <td>...</td>\n",
       "      <td>...</td>\n",
       "      <td>...</td>\n",
       "      <td>...</td>\n",
       "      <td>...</td>\n",
       "      <td>...</td>\n",
       "      <td>...</td>\n",
       "    </tr>\n",
       "    <tr>\n",
       "      <th>49995</th>\n",
       "      <td>1477</td>\n",
       "      <td>1442</td>\n",
       "      <td>e4</td>\n",
       "      <td>c5</td>\n",
       "      <td>a3</td>\n",
       "      <td>Nc6</td>\n",
       "      <td>b4</td>\n",
       "      <td>cxb4</td>\n",
       "      <td>0</td>\n",
       "    </tr>\n",
       "    <tr>\n",
       "      <th>49996</th>\n",
       "      <td>1662</td>\n",
       "      <td>1632</td>\n",
       "      <td>e4</td>\n",
       "      <td>d5</td>\n",
       "      <td>exd5</td>\n",
       "      <td>Qxd5</td>\n",
       "      <td>Nc3</td>\n",
       "      <td>Qd8</td>\n",
       "      <td>1</td>\n",
       "    </tr>\n",
       "    <tr>\n",
       "      <th>49997</th>\n",
       "      <td>1866</td>\n",
       "      <td>1773</td>\n",
       "      <td>e4</td>\n",
       "      <td>d5</td>\n",
       "      <td>exd5</td>\n",
       "      <td>Qxd5</td>\n",
       "      <td>Nc3</td>\n",
       "      <td>Qd8</td>\n",
       "      <td>1</td>\n",
       "    </tr>\n",
       "    <tr>\n",
       "      <th>49998</th>\n",
       "      <td>1907</td>\n",
       "      <td>1922</td>\n",
       "      <td>e4</td>\n",
       "      <td>d5</td>\n",
       "      <td>Nc3</td>\n",
       "      <td>dxe4</td>\n",
       "      <td>Nxe4</td>\n",
       "      <td>Nf6</td>\n",
       "      <td>1</td>\n",
       "    </tr>\n",
       "    <tr>\n",
       "      <th>49999</th>\n",
       "      <td>1629</td>\n",
       "      <td>1603</td>\n",
       "      <td>e4</td>\n",
       "      <td>e5</td>\n",
       "      <td>Nf3</td>\n",
       "      <td>Nc6</td>\n",
       "      <td>Bb5</td>\n",
       "      <td>Nd4</td>\n",
       "      <td>0</td>\n",
       "    </tr>\n",
       "  </tbody>\n",
       "</table>\n",
       "<p>50000 rows × 9 columns</p>\n",
       "</div>"
      ],
      "text/plain": [
       "       WhiteElo  BlackElo  w1  b1    w2    b2     w3    b3 Result\n",
       "0          1832      1658  e4  c5   Bc4    a6  Bxf7+  Kxf7      0\n",
       "1          1866      1608  e4  e5   Nf3   Nc6     d4  exd4      1\n",
       "2          1951      2017  d4  c6    c4    e6     e3    d5      0\n",
       "3          1532      1518  e4  e5   Nf3   Nc6    Bb5    d6      1\n",
       "4          1330      1344  c4  e5   Nc3   Bb4     g3    d6      0\n",
       "...         ...       ...  ..  ..   ...   ...    ...   ...    ...\n",
       "49995      1477      1442  e4  c5    a3   Nc6     b4  cxb4      0\n",
       "49996      1662      1632  e4  d5  exd5  Qxd5    Nc3   Qd8      1\n",
       "49997      1866      1773  e4  d5  exd5  Qxd5    Nc3   Qd8      1\n",
       "49998      1907      1922  e4  d5   Nc3  dxe4   Nxe4   Nf6      1\n",
       "49999      1629      1603  e4  e5   Nf3   Nc6    Bb5   Nd4      0\n",
       "\n",
       "[50000 rows x 9 columns]"
      ]
     },
     "execution_count": 101,
     "metadata": {},
     "output_type": "execute_result"
    }
   ],
   "source": [
    "new_df = pd.concat([X, y], axis=1)\n",
    "new_df = new_df.reset_index(drop = True)\n",
    "new_df"
   ]
  },
  {
   "cell_type": "code",
   "execution_count": 102,
   "metadata": {
    "execution": {
     "iopub.execute_input": "2023-04-26T08:55:35.586265Z",
     "iopub.status.busy": "2023-04-26T08:55:35.584955Z",
     "iopub.status.idle": "2023-04-26T08:55:37.066086Z",
     "shell.execute_reply": "2023-04-26T08:55:37.064802Z",
     "shell.execute_reply.started": "2023-04-26T08:55:35.586217Z"
    }
   },
   "outputs": [
    {
     "name": "stdout",
     "output_type": "stream",
     "text": [
      "       WhiteElo  BlackElo Result  w1_Na3  w1_Nc3  w1_Nf3  w1_Nh3  w1_a3  \\\n",
      "0          1832      1658      0     0.0     0.0     0.0     0.0    0.0   \n",
      "1          1866      1608      1     0.0     0.0     0.0     0.0    0.0   \n",
      "2          1951      2017      0     0.0     0.0     0.0     0.0    0.0   \n",
      "3          1532      1518      1     0.0     0.0     0.0     0.0    0.0   \n",
      "4          1330      1344      0     0.0     0.0     0.0     0.0    0.0   \n",
      "...         ...       ...    ...     ...     ...     ...     ...    ...   \n",
      "49995      1477      1442      0     0.0     0.0     0.0     0.0    0.0   \n",
      "49996      1662      1632      1     0.0     0.0     0.0     0.0    0.0   \n",
      "49997      1866      1773      1     0.0     0.0     0.0     0.0    0.0   \n",
      "49998      1907      1922      1     0.0     0.0     0.0     0.0    0.0   \n",
      "49999      1629      1603      0     0.0     0.0     0.0     0.0    0.0   \n",
      "\n",
      "       w1_a4  w1_b3  ...  b3_gxh4  b3_gxh5  b3_gxh6  b3_h3  b3_h4  b3_h5  \\\n",
      "0        0.0    0.0  ...      0.0      0.0      0.0    0.0    0.0    0.0   \n",
      "1        0.0    0.0  ...      0.0      0.0      0.0    0.0    0.0    0.0   \n",
      "2        0.0    0.0  ...      0.0      0.0      0.0    0.0    0.0    0.0   \n",
      "3        0.0    0.0  ...      0.0      0.0      0.0    0.0    0.0    0.0   \n",
      "4        0.0    0.0  ...      0.0      0.0      0.0    0.0    0.0    0.0   \n",
      "...      ...    ...  ...      ...      ...      ...    ...    ...    ...   \n",
      "49995    0.0    0.0  ...      0.0      0.0      0.0    0.0    0.0    0.0   \n",
      "49996    0.0    0.0  ...      0.0      0.0      0.0    0.0    0.0    0.0   \n",
      "49997    0.0    0.0  ...      0.0      0.0      0.0    0.0    0.0    0.0   \n",
      "49998    0.0    0.0  ...      0.0      0.0      0.0    0.0    0.0    0.0   \n",
      "49999    0.0    0.0  ...      0.0      0.0      0.0    0.0    0.0    0.0   \n",
      "\n",
      "       b3_h6  b3_hxg3  b3_hxg5  b3_hxg6  \n",
      "0        0.0      0.0      0.0      0.0  \n",
      "1        0.0      0.0      0.0      0.0  \n",
      "2        0.0      0.0      0.0      0.0  \n",
      "3        0.0      0.0      0.0      0.0  \n",
      "4        0.0      0.0      0.0      0.0  \n",
      "...      ...      ...      ...      ...  \n",
      "49995    0.0      0.0      0.0      0.0  \n",
      "49996    0.0      0.0      0.0      0.0  \n",
      "49997    0.0      0.0      0.0      0.0  \n",
      "49998    0.0      0.0      0.0      0.0  \n",
      "49999    0.0      0.0      0.0      0.0  \n",
      "\n",
      "[50000 rows x 714 columns]\n"
     ]
    }
   ],
   "source": [
    "from sklearn.preprocessing import OneHotEncoder\n",
    "# create an instance of the OneHotEncoder\n",
    "onehot_encoder = OneHotEncoder()\n",
    "\n",
    "# fit the encoder on the columns 'w1', 'b1', 'w2', 'b2', 'w3', 'b3'\n",
    "onehot_encoder.fit(new_df[['w1', 'b1', 'w2', 'b2', 'w3', 'b3']].values)\n",
    "\n",
    "# transform the columns using one-hot encoding\n",
    "onehot_encoded = onehot_encoder.transform(new_df[['w1', 'b1', 'w2', 'b2', 'w3', 'b3']].values)\n",
    "\n",
    "# create a new dataframe with the one-hot encoded columns\n",
    "onehot_df = pd.DataFrame(onehot_encoded.toarray(), columns=onehot_encoder.get_feature_names_out(['w1', 'b1', 'w2', 'b2', 'w3', 'b3']))\n",
    "\n",
    "# concatenate the new dataframe with the original dataframe\n",
    "new_df = pd.concat([new_df, onehot_df], axis=1)\n",
    "\n",
    "# drop the original columns 'w1', 'b1', 'w2', 'b2', 'w3', 'b3'\n",
    "new_df = new_df.drop(['w1', 'b1', 'w2', 'b2', 'w3', 'b3'], axis=1)\n",
    "\n",
    "# print the modified dataframe\n",
    "print(new_df)"
   ]
  },
  {
   "cell_type": "code",
   "execution_count": 103,
   "metadata": {
    "execution": {
     "iopub.execute_input": "2023-04-26T08:55:43.546732Z",
     "iopub.status.busy": "2023-04-26T08:55:43.544295Z",
     "iopub.status.idle": "2023-04-26T08:55:43.779652Z",
     "shell.execute_reply": "2023-04-26T08:55:43.778297Z",
     "shell.execute_reply.started": "2023-04-26T08:55:43.546683Z"
    }
   },
   "outputs": [
    {
     "name": "stdout",
     "output_type": "stream",
     "text": [
      "       WhiteElo  BlackElo Result  w1_Na3  w1_Nc3  w1_Nf3  w1_Nh3  w1_a3  \\\n",
      "0          1832      1658      0     0.0     0.0     0.0     0.0    0.0   \n",
      "1          1866      1608      1     0.0     0.0     0.0     0.0    0.0   \n",
      "2          1951      2017      0     0.0     0.0     0.0     0.0    0.0   \n",
      "3          1532      1518      1     0.0     0.0     0.0     0.0    0.0   \n",
      "4          1330      1344      0     0.0     0.0     0.0     0.0    0.0   \n",
      "...         ...       ...    ...     ...     ...     ...     ...    ...   \n",
      "49995      1477      1442      0     0.0     0.0     0.0     0.0    0.0   \n",
      "49996      1662      1632      1     0.0     0.0     0.0     0.0    0.0   \n",
      "49997      1866      1773      1     0.0     0.0     0.0     0.0    0.0   \n",
      "49998      1907      1922      1     0.0     0.0     0.0     0.0    0.0   \n",
      "49999      1629      1603      0     0.0     0.0     0.0     0.0    0.0   \n",
      "\n",
      "       w1_a4  w1_b3  ...  b3_gxh4  b3_gxh5  b3_gxh6  b3_h3  b3_h4  b3_h5  \\\n",
      "0        0.0    0.0  ...      0.0      0.0      0.0    0.0    0.0    0.0   \n",
      "1        0.0    0.0  ...      0.0      0.0      0.0    0.0    0.0    0.0   \n",
      "2        0.0    0.0  ...      0.0      0.0      0.0    0.0    0.0    0.0   \n",
      "3        0.0    0.0  ...      0.0      0.0      0.0    0.0    0.0    0.0   \n",
      "4        0.0    0.0  ...      0.0      0.0      0.0    0.0    0.0    0.0   \n",
      "...      ...    ...  ...      ...      ...      ...    ...    ...    ...   \n",
      "49995    0.0    0.0  ...      0.0      0.0      0.0    0.0    0.0    0.0   \n",
      "49996    0.0    0.0  ...      0.0      0.0      0.0    0.0    0.0    0.0   \n",
      "49997    0.0    0.0  ...      0.0      0.0      0.0    0.0    0.0    0.0   \n",
      "49998    0.0    0.0  ...      0.0      0.0      0.0    0.0    0.0    0.0   \n",
      "49999    0.0    0.0  ...      0.0      0.0      0.0    0.0    0.0    0.0   \n",
      "\n",
      "       b3_h6  b3_hxg3  b3_hxg5  b3_hxg6  \n",
      "0        0.0      0.0      0.0      0.0  \n",
      "1        0.0      0.0      0.0      0.0  \n",
      "2        0.0      0.0      0.0      0.0  \n",
      "3        0.0      0.0      0.0      0.0  \n",
      "4        0.0      0.0      0.0      0.0  \n",
      "...      ...      ...      ...      ...  \n",
      "49995    0.0      0.0      0.0      0.0  \n",
      "49996    0.0      0.0      0.0      0.0  \n",
      "49997    0.0      0.0      0.0      0.0  \n",
      "49998    0.0      0.0      0.0      0.0  \n",
      "49999    0.0      0.0      0.0      0.0  \n",
      "\n",
      "[50000 rows x 714 columns]\n"
     ]
    }
   ],
   "source": [
    "new_df = new_df.dropna()\n",
    "print(new_df)"
   ]
  },
  {
   "cell_type": "code",
   "execution_count": 104,
   "metadata": {
    "execution": {
     "iopub.execute_input": "2023-04-26T08:56:19.006852Z",
     "iopub.status.busy": "2023-04-26T08:56:19.006441Z",
     "iopub.status.idle": "2023-04-26T08:56:19.158571Z",
     "shell.execute_reply": "2023-04-26T08:56:19.156803Z",
     "shell.execute_reply.started": "2023-04-26T08:56:19.006818Z"
    }
   },
   "outputs": [
    {
     "ename": "KeyError",
     "evalue": "'Result'",
     "output_type": "error",
     "traceback": [
      "\u001b[0;31m---------------------------------------------------------------------------\u001b[0m",
      "\u001b[0;31mKeyError\u001b[0m                                  Traceback (most recent call last)",
      "\u001b[0;32m/opt/conda/lib/python3.7/site-packages/pandas/core/indexes/base.py\u001b[0m in \u001b[0;36mget_loc\u001b[0;34m(self, key, method, tolerance)\u001b[0m\n\u001b[1;32m   3360\u001b[0m             \u001b[0;32mtry\u001b[0m\u001b[0;34m:\u001b[0m\u001b[0;34m\u001b[0m\u001b[0;34m\u001b[0m\u001b[0m\n\u001b[0;32m-> 3361\u001b[0;31m                 \u001b[0;32mreturn\u001b[0m \u001b[0mself\u001b[0m\u001b[0;34m.\u001b[0m\u001b[0m_engine\u001b[0m\u001b[0;34m.\u001b[0m\u001b[0mget_loc\u001b[0m\u001b[0;34m(\u001b[0m\u001b[0mcasted_key\u001b[0m\u001b[0;34m)\u001b[0m\u001b[0;34m\u001b[0m\u001b[0;34m\u001b[0m\u001b[0m\n\u001b[0m\u001b[1;32m   3362\u001b[0m             \u001b[0;32mexcept\u001b[0m \u001b[0mKeyError\u001b[0m \u001b[0;32mas\u001b[0m \u001b[0merr\u001b[0m\u001b[0;34m:\u001b[0m\u001b[0;34m\u001b[0m\u001b[0;34m\u001b[0m\u001b[0m\n",
      "\u001b[0;32m/opt/conda/lib/python3.7/site-packages/pandas/_libs/index.pyx\u001b[0m in \u001b[0;36mpandas._libs.index.IndexEngine.get_loc\u001b[0;34m()\u001b[0m\n",
      "\u001b[0;32m/opt/conda/lib/python3.7/site-packages/pandas/_libs/index.pyx\u001b[0m in \u001b[0;36mpandas._libs.index.IndexEngine.get_loc\u001b[0;34m()\u001b[0m\n",
      "\u001b[0;32mpandas/_libs/hashtable_class_helper.pxi\u001b[0m in \u001b[0;36mpandas._libs.hashtable.PyObjectHashTable.get_item\u001b[0;34m()\u001b[0m\n",
      "\u001b[0;32mpandas/_libs/hashtable_class_helper.pxi\u001b[0m in \u001b[0;36mpandas._libs.hashtable.PyObjectHashTable.get_item\u001b[0;34m()\u001b[0m\n",
      "\u001b[0;31mKeyError\u001b[0m: 'Result'",
      "\nThe above exception was the direct cause of the following exception:\n",
      "\u001b[0;31mKeyError\u001b[0m                                  Traceback (most recent call last)",
      "\u001b[0;32m/tmp/ipykernel_27/589847903.py\u001b[0m in \u001b[0;36m<module>\u001b[0;34m\u001b[0m\n\u001b[1;32m      1\u001b[0m \u001b[0mXnew\u001b[0m \u001b[0;34m=\u001b[0m \u001b[0mnew_df\u001b[0m\u001b[0;34m.\u001b[0m\u001b[0mdrop\u001b[0m\u001b[0;34m(\u001b[0m\u001b[0;34m[\u001b[0m\u001b[0;34m'Result'\u001b[0m\u001b[0;34m]\u001b[0m\u001b[0;34m,\u001b[0m \u001b[0maxis\u001b[0m \u001b[0;34m=\u001b[0m \u001b[0;36m1\u001b[0m\u001b[0;34m,\u001b[0m \u001b[0minplace\u001b[0m \u001b[0;34m=\u001b[0m \u001b[0;32mTrue\u001b[0m\u001b[0;34m)\u001b[0m\u001b[0;34m\u001b[0m\u001b[0;34m\u001b[0m\u001b[0m\n\u001b[0;32m----> 2\u001b[0;31m \u001b[0mYnew\u001b[0m \u001b[0;34m=\u001b[0m \u001b[0mnew_df\u001b[0m\u001b[0;34m[\u001b[0m\u001b[0;34m'Result'\u001b[0m\u001b[0;34m]\u001b[0m\u001b[0;34m\u001b[0m\u001b[0;34m\u001b[0m\u001b[0m\n\u001b[0m\u001b[1;32m      3\u001b[0m \u001b[0mprint\u001b[0m\u001b[0;34m(\u001b[0m\u001b[0mX\u001b[0m\u001b[0;34m)\u001b[0m\u001b[0;34m\u001b[0m\u001b[0;34m\u001b[0m\u001b[0m\n\u001b[1;32m      4\u001b[0m \u001b[0mprint\u001b[0m\u001b[0;34m(\u001b[0m\u001b[0mY\u001b[0m\u001b[0;34m)\u001b[0m\u001b[0;34m\u001b[0m\u001b[0;34m\u001b[0m\u001b[0m\n",
      "\u001b[0;32m/opt/conda/lib/python3.7/site-packages/pandas/core/frame.py\u001b[0m in \u001b[0;36m__getitem__\u001b[0;34m(self, key)\u001b[0m\n\u001b[1;32m   3456\u001b[0m             \u001b[0;32mif\u001b[0m \u001b[0mself\u001b[0m\u001b[0;34m.\u001b[0m\u001b[0mcolumns\u001b[0m\u001b[0;34m.\u001b[0m\u001b[0mnlevels\u001b[0m \u001b[0;34m>\u001b[0m \u001b[0;36m1\u001b[0m\u001b[0;34m:\u001b[0m\u001b[0;34m\u001b[0m\u001b[0;34m\u001b[0m\u001b[0m\n\u001b[1;32m   3457\u001b[0m                 \u001b[0;32mreturn\u001b[0m \u001b[0mself\u001b[0m\u001b[0;34m.\u001b[0m\u001b[0m_getitem_multilevel\u001b[0m\u001b[0;34m(\u001b[0m\u001b[0mkey\u001b[0m\u001b[0;34m)\u001b[0m\u001b[0;34m\u001b[0m\u001b[0;34m\u001b[0m\u001b[0m\n\u001b[0;32m-> 3458\u001b[0;31m             \u001b[0mindexer\u001b[0m \u001b[0;34m=\u001b[0m \u001b[0mself\u001b[0m\u001b[0;34m.\u001b[0m\u001b[0mcolumns\u001b[0m\u001b[0;34m.\u001b[0m\u001b[0mget_loc\u001b[0m\u001b[0;34m(\u001b[0m\u001b[0mkey\u001b[0m\u001b[0;34m)\u001b[0m\u001b[0;34m\u001b[0m\u001b[0;34m\u001b[0m\u001b[0m\n\u001b[0m\u001b[1;32m   3459\u001b[0m             \u001b[0;32mif\u001b[0m \u001b[0mis_integer\u001b[0m\u001b[0;34m(\u001b[0m\u001b[0mindexer\u001b[0m\u001b[0;34m)\u001b[0m\u001b[0;34m:\u001b[0m\u001b[0;34m\u001b[0m\u001b[0;34m\u001b[0m\u001b[0m\n\u001b[1;32m   3460\u001b[0m                 \u001b[0mindexer\u001b[0m \u001b[0;34m=\u001b[0m \u001b[0;34m[\u001b[0m\u001b[0mindexer\u001b[0m\u001b[0;34m]\u001b[0m\u001b[0;34m\u001b[0m\u001b[0;34m\u001b[0m\u001b[0m\n",
      "\u001b[0;32m/opt/conda/lib/python3.7/site-packages/pandas/core/indexes/base.py\u001b[0m in \u001b[0;36mget_loc\u001b[0;34m(self, key, method, tolerance)\u001b[0m\n\u001b[1;32m   3361\u001b[0m                 \u001b[0;32mreturn\u001b[0m \u001b[0mself\u001b[0m\u001b[0;34m.\u001b[0m\u001b[0m_engine\u001b[0m\u001b[0;34m.\u001b[0m\u001b[0mget_loc\u001b[0m\u001b[0;34m(\u001b[0m\u001b[0mcasted_key\u001b[0m\u001b[0;34m)\u001b[0m\u001b[0;34m\u001b[0m\u001b[0;34m\u001b[0m\u001b[0m\n\u001b[1;32m   3362\u001b[0m             \u001b[0;32mexcept\u001b[0m \u001b[0mKeyError\u001b[0m \u001b[0;32mas\u001b[0m \u001b[0merr\u001b[0m\u001b[0;34m:\u001b[0m\u001b[0;34m\u001b[0m\u001b[0;34m\u001b[0m\u001b[0m\n\u001b[0;32m-> 3363\u001b[0;31m                 \u001b[0;32mraise\u001b[0m \u001b[0mKeyError\u001b[0m\u001b[0;34m(\u001b[0m\u001b[0mkey\u001b[0m\u001b[0;34m)\u001b[0m \u001b[0;32mfrom\u001b[0m \u001b[0merr\u001b[0m\u001b[0;34m\u001b[0m\u001b[0;34m\u001b[0m\u001b[0m\n\u001b[0m\u001b[1;32m   3364\u001b[0m \u001b[0;34m\u001b[0m\u001b[0m\n\u001b[1;32m   3365\u001b[0m         \u001b[0;32mif\u001b[0m \u001b[0mis_scalar\u001b[0m\u001b[0;34m(\u001b[0m\u001b[0mkey\u001b[0m\u001b[0;34m)\u001b[0m \u001b[0;32mand\u001b[0m \u001b[0misna\u001b[0m\u001b[0;34m(\u001b[0m\u001b[0mkey\u001b[0m\u001b[0;34m)\u001b[0m \u001b[0;32mand\u001b[0m \u001b[0;32mnot\u001b[0m \u001b[0mself\u001b[0m\u001b[0;34m.\u001b[0m\u001b[0mhasnans\u001b[0m\u001b[0;34m:\u001b[0m\u001b[0;34m\u001b[0m\u001b[0;34m\u001b[0m\u001b[0m\n",
      "\u001b[0;31mKeyError\u001b[0m: 'Result'"
     ]
    }
   ],
   "source": [
    "X = new_df\n",
    "Y = new_df['Result']\n",
    "X.drop(['Result'], axis = 1, inplace = True)\n",
    "print(X)\n",
    "print(Y)"
   ]
  },
  {
   "cell_type": "code",
   "execution_count": 84,
   "metadata": {
    "execution": {
     "iopub.execute_input": "2023-04-26T08:45:16.947147Z",
     "iopub.status.busy": "2023-04-26T08:45:16.946162Z",
     "iopub.status.idle": "2023-04-26T08:45:17.232561Z",
     "shell.execute_reply": "2023-04-26T08:45:17.231410Z",
     "shell.execute_reply.started": "2023-04-26T08:45:16.947097Z"
    }
   },
   "outputs": [],
   "source": [
    "from sklearn.model_selection import train_test_split\n",
    "X_train, X_test, Y_train, Y_test = train_test_split(X, Y, test_size=0.30, stratify = Y)"
   ]
  },
  {
   "cell_type": "code",
   "execution_count": 85,
   "metadata": {
    "execution": {
     "iopub.execute_input": "2023-04-26T08:45:19.943435Z",
     "iopub.status.busy": "2023-04-26T08:45:19.942941Z",
     "iopub.status.idle": "2023-04-26T08:45:19.990274Z",
     "shell.execute_reply": "2023-04-26T08:45:19.987079Z",
     "shell.execute_reply.started": "2023-04-26T08:45:19.943373Z"
    }
   },
   "outputs": [
    {
     "ename": "ValueError",
     "evalue": "Unknown label type: (array([0, 1], dtype=object),)",
     "output_type": "error",
     "traceback": [
      "\u001b[0;31m---------------------------------------------------------------------------\u001b[0m",
      "\u001b[0;31mValueError\u001b[0m                                Traceback (most recent call last)",
      "\u001b[0;32m/tmp/ipykernel_27/1745743315.py\u001b[0m in \u001b[0;36m<module>\u001b[0;34m\u001b[0m\n\u001b[1;32m      1\u001b[0m \u001b[0;32mfrom\u001b[0m \u001b[0msklearn\u001b[0m\u001b[0;34m.\u001b[0m\u001b[0mnaive_bayes\u001b[0m \u001b[0;32mimport\u001b[0m \u001b[0mGaussianNB\u001b[0m\u001b[0;34m\u001b[0m\u001b[0;34m\u001b[0m\u001b[0m\n\u001b[1;32m      2\u001b[0m \u001b[0mGNBclf\u001b[0m \u001b[0;34m=\u001b[0m \u001b[0mGaussianNB\u001b[0m\u001b[0;34m(\u001b[0m\u001b[0;34m)\u001b[0m\u001b[0;34m\u001b[0m\u001b[0;34m\u001b[0m\u001b[0m\n\u001b[0;32m----> 3\u001b[0;31m \u001b[0mmodel\u001b[0m \u001b[0;34m=\u001b[0m \u001b[0mGNBclf\u001b[0m\u001b[0;34m.\u001b[0m\u001b[0mfit\u001b[0m\u001b[0;34m(\u001b[0m\u001b[0mX_train\u001b[0m\u001b[0;34m,\u001b[0m \u001b[0mY_train\u001b[0m\u001b[0;34m)\u001b[0m\u001b[0;34m\u001b[0m\u001b[0;34m\u001b[0m\u001b[0m\n\u001b[0m\u001b[1;32m      4\u001b[0m \u001b[0mpreds\u001b[0m \u001b[0;34m=\u001b[0m \u001b[0mGNBclf\u001b[0m\u001b[0;34m.\u001b[0m\u001b[0mpredict\u001b[0m\u001b[0;34m(\u001b[0m\u001b[0mX_test\u001b[0m\u001b[0;34m)\u001b[0m\u001b[0;34m\u001b[0m\u001b[0;34m\u001b[0m\u001b[0m\n\u001b[1;32m      5\u001b[0m \u001b[0mprint\u001b[0m\u001b[0;34m(\u001b[0m\u001b[0mpreds\u001b[0m\u001b[0;34m)\u001b[0m\u001b[0;34m\u001b[0m\u001b[0;34m\u001b[0m\u001b[0m\n",
      "\u001b[0;32m/opt/conda/lib/python3.7/site-packages/sklearn/naive_bayes.py\u001b[0m in \u001b[0;36mfit\u001b[0;34m(self, X, y, sample_weight)\u001b[0m\n\u001b[1;32m    244\u001b[0m         \u001b[0my\u001b[0m \u001b[0;34m=\u001b[0m \u001b[0mself\u001b[0m\u001b[0;34m.\u001b[0m\u001b[0m_validate_data\u001b[0m\u001b[0;34m(\u001b[0m\u001b[0my\u001b[0m\u001b[0;34m=\u001b[0m\u001b[0my\u001b[0m\u001b[0;34m)\u001b[0m\u001b[0;34m\u001b[0m\u001b[0;34m\u001b[0m\u001b[0m\n\u001b[1;32m    245\u001b[0m         return self._partial_fit(\n\u001b[0;32m--> 246\u001b[0;31m             \u001b[0mX\u001b[0m\u001b[0;34m,\u001b[0m \u001b[0my\u001b[0m\u001b[0;34m,\u001b[0m \u001b[0mnp\u001b[0m\u001b[0;34m.\u001b[0m\u001b[0munique\u001b[0m\u001b[0;34m(\u001b[0m\u001b[0my\u001b[0m\u001b[0;34m)\u001b[0m\u001b[0;34m,\u001b[0m \u001b[0m_refit\u001b[0m\u001b[0;34m=\u001b[0m\u001b[0;32mTrue\u001b[0m\u001b[0;34m,\u001b[0m \u001b[0msample_weight\u001b[0m\u001b[0;34m=\u001b[0m\u001b[0msample_weight\u001b[0m\u001b[0;34m\u001b[0m\u001b[0;34m\u001b[0m\u001b[0m\n\u001b[0m\u001b[1;32m    247\u001b[0m         )\n\u001b[1;32m    248\u001b[0m \u001b[0;34m\u001b[0m\u001b[0m\n",
      "\u001b[0;32m/opt/conda/lib/python3.7/site-packages/sklearn/naive_bayes.py\u001b[0m in \u001b[0;36m_partial_fit\u001b[0;34m(self, X, y, classes, _refit, sample_weight)\u001b[0m\n\u001b[1;32m    399\u001b[0m             \u001b[0mself\u001b[0m\u001b[0;34m.\u001b[0m\u001b[0mclasses_\u001b[0m \u001b[0;34m=\u001b[0m \u001b[0;32mNone\u001b[0m\u001b[0;34m\u001b[0m\u001b[0;34m\u001b[0m\u001b[0m\n\u001b[1;32m    400\u001b[0m \u001b[0;34m\u001b[0m\u001b[0m\n\u001b[0;32m--> 401\u001b[0;31m         \u001b[0mfirst_call\u001b[0m \u001b[0;34m=\u001b[0m \u001b[0m_check_partial_fit_first_call\u001b[0m\u001b[0;34m(\u001b[0m\u001b[0mself\u001b[0m\u001b[0;34m,\u001b[0m \u001b[0mclasses\u001b[0m\u001b[0;34m)\u001b[0m\u001b[0;34m\u001b[0m\u001b[0;34m\u001b[0m\u001b[0m\n\u001b[0m\u001b[1;32m    402\u001b[0m         \u001b[0mX\u001b[0m\u001b[0;34m,\u001b[0m \u001b[0my\u001b[0m \u001b[0;34m=\u001b[0m \u001b[0mself\u001b[0m\u001b[0;34m.\u001b[0m\u001b[0m_validate_data\u001b[0m\u001b[0;34m(\u001b[0m\u001b[0mX\u001b[0m\u001b[0;34m,\u001b[0m \u001b[0my\u001b[0m\u001b[0;34m,\u001b[0m \u001b[0mreset\u001b[0m\u001b[0;34m=\u001b[0m\u001b[0mfirst_call\u001b[0m\u001b[0;34m)\u001b[0m\u001b[0;34m\u001b[0m\u001b[0;34m\u001b[0m\u001b[0m\n\u001b[1;32m    403\u001b[0m         \u001b[0;32mif\u001b[0m \u001b[0msample_weight\u001b[0m \u001b[0;32mis\u001b[0m \u001b[0;32mnot\u001b[0m \u001b[0;32mNone\u001b[0m\u001b[0;34m:\u001b[0m\u001b[0;34m\u001b[0m\u001b[0;34m\u001b[0m\u001b[0m\n",
      "\u001b[0;32m/opt/conda/lib/python3.7/site-packages/sklearn/utils/multiclass.py\u001b[0m in \u001b[0;36m_check_partial_fit_first_call\u001b[0;34m(clf, classes)\u001b[0m\n\u001b[1;32m    358\u001b[0m         \u001b[0;32melse\u001b[0m\u001b[0;34m:\u001b[0m\u001b[0;34m\u001b[0m\u001b[0;34m\u001b[0m\u001b[0m\n\u001b[1;32m    359\u001b[0m             \u001b[0;31m# This is the first call to partial_fit\u001b[0m\u001b[0;34m\u001b[0m\u001b[0;34m\u001b[0m\u001b[0;34m\u001b[0m\u001b[0m\n\u001b[0;32m--> 360\u001b[0;31m             \u001b[0mclf\u001b[0m\u001b[0;34m.\u001b[0m\u001b[0mclasses_\u001b[0m \u001b[0;34m=\u001b[0m \u001b[0munique_labels\u001b[0m\u001b[0;34m(\u001b[0m\u001b[0mclasses\u001b[0m\u001b[0;34m)\u001b[0m\u001b[0;34m\u001b[0m\u001b[0;34m\u001b[0m\u001b[0m\n\u001b[0m\u001b[1;32m    361\u001b[0m             \u001b[0;32mreturn\u001b[0m \u001b[0;32mTrue\u001b[0m\u001b[0;34m\u001b[0m\u001b[0;34m\u001b[0m\u001b[0m\n\u001b[1;32m    362\u001b[0m \u001b[0;34m\u001b[0m\u001b[0m\n",
      "\u001b[0;32m/opt/conda/lib/python3.7/site-packages/sklearn/utils/multiclass.py\u001b[0m in \u001b[0;36munique_labels\u001b[0;34m(*ys)\u001b[0m\n\u001b[1;32m     99\u001b[0m     \u001b[0m_unique_labels\u001b[0m \u001b[0;34m=\u001b[0m \u001b[0m_FN_UNIQUE_LABELS\u001b[0m\u001b[0;34m.\u001b[0m\u001b[0mget\u001b[0m\u001b[0;34m(\u001b[0m\u001b[0mlabel_type\u001b[0m\u001b[0;34m,\u001b[0m \u001b[0;32mNone\u001b[0m\u001b[0;34m)\u001b[0m\u001b[0;34m\u001b[0m\u001b[0;34m\u001b[0m\u001b[0m\n\u001b[1;32m    100\u001b[0m     \u001b[0;32mif\u001b[0m \u001b[0;32mnot\u001b[0m \u001b[0m_unique_labels\u001b[0m\u001b[0;34m:\u001b[0m\u001b[0;34m\u001b[0m\u001b[0;34m\u001b[0m\u001b[0m\n\u001b[0;32m--> 101\u001b[0;31m         \u001b[0;32mraise\u001b[0m \u001b[0mValueError\u001b[0m\u001b[0;34m(\u001b[0m\u001b[0;34m\"Unknown label type: %s\"\u001b[0m \u001b[0;34m%\u001b[0m \u001b[0mrepr\u001b[0m\u001b[0;34m(\u001b[0m\u001b[0mys\u001b[0m\u001b[0;34m)\u001b[0m\u001b[0;34m)\u001b[0m\u001b[0;34m\u001b[0m\u001b[0;34m\u001b[0m\u001b[0m\n\u001b[0m\u001b[1;32m    102\u001b[0m \u001b[0;34m\u001b[0m\u001b[0m\n\u001b[1;32m    103\u001b[0m     \u001b[0mys_labels\u001b[0m \u001b[0;34m=\u001b[0m \u001b[0mset\u001b[0m\u001b[0;34m(\u001b[0m\u001b[0mchain\u001b[0m\u001b[0;34m.\u001b[0m\u001b[0mfrom_iterable\u001b[0m\u001b[0;34m(\u001b[0m\u001b[0m_unique_labels\u001b[0m\u001b[0;34m(\u001b[0m\u001b[0my\u001b[0m\u001b[0;34m)\u001b[0m \u001b[0;32mfor\u001b[0m \u001b[0my\u001b[0m \u001b[0;32min\u001b[0m \u001b[0mys\u001b[0m\u001b[0;34m)\u001b[0m\u001b[0;34m)\u001b[0m\u001b[0;34m\u001b[0m\u001b[0;34m\u001b[0m\u001b[0m\n",
      "\u001b[0;31mValueError\u001b[0m: Unknown label type: (array([0, 1], dtype=object),)"
     ]
    }
   ],
   "source": [
    "from sklearn.naive_bayes import GaussianNB\n",
    "GNBclf = GaussianNB()\n",
    "model = GNBclf.fit(X_train, Y_train)\n",
    "preds = GNBclf.predict(X_test)\n",
    "print(preds)"
   ]
  },
  {
   "cell_type": "code",
   "execution_count": 109,
   "metadata": {
    "execution": {
     "iopub.execute_input": "2023-04-26T07:41:21.083466Z",
     "iopub.status.busy": "2023-04-26T07:41:21.082794Z",
     "iopub.status.idle": "2023-04-26T07:41:21.185628Z",
     "shell.execute_reply": "2023-04-26T07:41:21.184289Z",
     "shell.execute_reply.started": "2023-04-26T07:41:21.083426Z"
    }
   },
   "outputs": [
    {
     "name": "stdout",
     "output_type": "stream",
     "text": [
      "              precision    recall  f1-score   support\n",
      "\n",
      "         0.0       0.87      0.50      0.63     33628\n",
      "         1.0       0.18      0.59      0.28      6349\n",
      "\n",
      "    accuracy                           0.51     39977\n",
      "   macro avg       0.52      0.54      0.46     39977\n",
      "weighted avg       0.76      0.51      0.58     39977\n",
      "\n"
     ]
    }
   ],
   "source": [
    "from sklearn.metrics import classification_report\n",
    "print(classification_report(preds, Y))"
   ]
  },
  {
   "cell_type": "code",
   "execution_count": 80,
   "metadata": {
    "execution": {
     "iopub.execute_input": "2023-04-26T07:14:26.979795Z",
     "iopub.status.busy": "2023-04-26T07:14:26.979367Z",
     "iopub.status.idle": "2023-04-26T07:14:26.987259Z",
     "shell.execute_reply": "2023-04-26T07:14:26.986094Z",
     "shell.execute_reply.started": "2023-04-26T07:14:26.979757Z"
    }
   },
   "outputs": [
    {
     "data": {
      "text/plain": [
       "array([0, 1, 0, ..., 0, 0, 0])"
      ]
     },
     "execution_count": 80,
     "metadata": {},
     "output_type": "execute_result"
    }
   ],
   "source": [
    "ytest = Y_test.values\n",
    "ytest = ytest.astype(int)\n",
    "ytest"
   ]
  },
  {
   "cell_type": "code",
   "execution_count": 82,
   "metadata": {
    "execution": {
     "iopub.execute_input": "2023-04-26T07:15:22.481574Z",
     "iopub.status.busy": "2023-04-26T07:15:22.481122Z",
     "iopub.status.idle": "2023-04-26T07:15:22.489468Z",
     "shell.execute_reply": "2023-04-26T07:15:22.488335Z",
     "shell.execute_reply.started": "2023-04-26T07:15:22.481534Z"
    }
   },
   "outputs": [
    {
     "data": {
      "text/plain": [
       "array([2, 2, 2, ..., 2, 2, 2])"
      ]
     },
     "execution_count": 82,
     "metadata": {},
     "output_type": "execute_result"
    }
   ],
   "source": [
    "preds = preds.astype(int)\n",
    "preds"
   ]
  },
  {
   "cell_type": "code",
   "execution_count": 83,
   "metadata": {
    "execution": {
     "iopub.execute_input": "2023-04-26T07:15:30.534695Z",
     "iopub.status.busy": "2023-04-26T07:15:30.534243Z",
     "iopub.status.idle": "2023-04-26T07:15:30.542901Z",
     "shell.execute_reply": "2023-04-26T07:15:30.541287Z",
     "shell.execute_reply.started": "2023-04-26T07:15:30.534655Z"
    }
   },
   "outputs": [
    {
     "name": "stdout",
     "output_type": "stream",
     "text": [
      "Accuracy: 0.08158200853043815\n"
     ]
    }
   ],
   "source": [
    "from sklearn.metrics import accuracy_score\n",
    "\n",
    "accuracy = accuracy_score(ytest, preds)\n",
    "print(\"Accuracy:\", accuracy)"
   ]
  },
  {
   "cell_type": "code",
   "execution_count": null,
   "metadata": {
    "execution": {
     "iopub.status.busy": "2023-04-26T03:29:20.009588Z",
     "iopub.status.idle": "2023-04-26T03:29:20.010126Z",
     "shell.execute_reply": "2023-04-26T03:29:20.009880Z",
     "shell.execute_reply.started": "2023-04-26T03:29:20.009856Z"
    }
   },
   "outputs": [],
   "source": [
    "# Filter the rows with Termination value Abandoned or Rule Infraction and drop them\n",
    "new_chess_data_df = new_chess_data_df[~new_chess_data_df['Termination'].isin(['Abandoned', 'Rule Infraction'])]\n",
    "# Print the shape of the updated dataframe\n",
    "print(\"Shape of the updated dataframe:\", new_chess_data_df.shape)"
   ]
  },
  {
   "cell_type": "code",
   "execution_count": 17,
   "metadata": {
    "execution": {
     "iopub.execute_input": "2023-04-26T03:05:52.856945Z",
     "iopub.status.busy": "2023-04-26T03:05:52.856417Z",
     "iopub.status.idle": "2023-04-26T03:05:53.390731Z",
     "shell.execute_reply": "2023-04-26T03:05:53.388920Z",
     "shell.execute_reply.started": "2023-04-26T03:05:52.856890Z"
    }
   },
   "outputs": [
    {
     "name": "stdout",
     "output_type": "stream",
     "text": [
      "           WhiteElo      BlackElo\n",
      "count  6.238227e+06  6.238227e+06\n",
      "mean   1.741878e+03  1.740482e+03\n",
      "std    2.657516e+02  2.669172e+02\n",
      "min    7.370000e+02  7.280000e+02\n",
      "25%    1.559000e+03  1.557000e+03\n",
      "50%    1.740000e+03  1.739000e+03\n",
      "75%    1.919000e+03  1.919000e+03\n",
      "max    3.110000e+03  3.108000e+03\n"
     ]
    }
   ],
   "source": [
    "print(new_chess_data_df.describe())"
   ]
  },
  {
   "cell_type": "code",
   "execution_count": 18,
   "metadata": {
    "execution": {
     "iopub.execute_input": "2023-04-26T03:05:53.393110Z",
     "iopub.status.busy": "2023-04-26T03:05:53.392530Z",
     "iopub.status.idle": "2023-04-26T03:05:53.810500Z",
     "shell.execute_reply": "2023-04-26T03:05:53.808853Z",
     "shell.execute_reply.started": "2023-04-26T03:05:53.393018Z"
    }
   },
   "outputs": [
    {
     "name": "stdout",
     "output_type": "stream",
     "text": [
      "Number of rows with '*' in column 'Result':  0\n"
     ]
    }
   ],
   "source": [
    "print(\"Number of rows with '*' in column 'Result': \", (new_chess_data_df['Result'] == '*').sum())"
   ]
  },
  {
   "cell_type": "code",
   "execution_count": 19,
   "metadata": {
    "execution": {
     "iopub.execute_input": "2023-04-26T03:05:53.812454Z",
     "iopub.status.busy": "2023-04-26T03:05:53.811965Z",
     "iopub.status.idle": "2023-04-26T03:05:53.838178Z",
     "shell.execute_reply": "2023-04-26T03:05:53.836845Z",
     "shell.execute_reply.started": "2023-04-26T03:05:53.812400Z"
    }
   },
   "outputs": [
    {
     "data": {
      "text/html": [
       "<div>\n",
       "<style scoped>\n",
       "    .dataframe tbody tr th:only-of-type {\n",
       "        vertical-align: middle;\n",
       "    }\n",
       "\n",
       "    .dataframe tbody tr th {\n",
       "        vertical-align: top;\n",
       "    }\n",
       "\n",
       "    .dataframe thead th {\n",
       "        text-align: right;\n",
       "    }\n",
       "</style>\n",
       "<table border=\"1\" class=\"dataframe\">\n",
       "  <thead>\n",
       "    <tr style=\"text-align: right;\">\n",
       "      <th></th>\n",
       "      <th>Event</th>\n",
       "      <th>Result</th>\n",
       "      <th>WhiteElo</th>\n",
       "      <th>BlackElo</th>\n",
       "      <th>ECO</th>\n",
       "      <th>Opening</th>\n",
       "      <th>Termination</th>\n",
       "    </tr>\n",
       "  </thead>\n",
       "  <tbody>\n",
       "    <tr>\n",
       "      <th>0</th>\n",
       "      <td>Classical</td>\n",
       "      <td>1-0</td>\n",
       "      <td>1901</td>\n",
       "      <td>1896</td>\n",
       "      <td>D10</td>\n",
       "      <td>Slav Defense</td>\n",
       "      <td>Time forfeit</td>\n",
       "    </tr>\n",
       "    <tr>\n",
       "      <th>1</th>\n",
       "      <td>Blitz</td>\n",
       "      <td>0-1</td>\n",
       "      <td>1641</td>\n",
       "      <td>1627</td>\n",
       "      <td>C20</td>\n",
       "      <td>King's Pawn Opening: 2.b3</td>\n",
       "      <td>Normal</td>\n",
       "    </tr>\n",
       "    <tr>\n",
       "      <th>2</th>\n",
       "      <td>Blitz tournament</td>\n",
       "      <td>1-0</td>\n",
       "      <td>1647</td>\n",
       "      <td>1688</td>\n",
       "      <td>B01</td>\n",
       "      <td>Scandinavian Defense: Mieses-Kotroc Variation</td>\n",
       "      <td>Time forfeit</td>\n",
       "    </tr>\n",
       "    <tr>\n",
       "      <th>3</th>\n",
       "      <td>Correspondence</td>\n",
       "      <td>1-0</td>\n",
       "      <td>1706</td>\n",
       "      <td>1317</td>\n",
       "      <td>A00</td>\n",
       "      <td>Van't Kruijs Opening</td>\n",
       "      <td>Normal</td>\n",
       "    </tr>\n",
       "    <tr>\n",
       "      <th>4</th>\n",
       "      <td>Blitz tournament</td>\n",
       "      <td>0-1</td>\n",
       "      <td>1945</td>\n",
       "      <td>1900</td>\n",
       "      <td>B90</td>\n",
       "      <td>Sicilian Defense: Najdorf, Lipnitsky Attack</td>\n",
       "      <td>Time forfeit</td>\n",
       "    </tr>\n",
       "  </tbody>\n",
       "</table>\n",
       "</div>"
      ],
      "text/plain": [
       "                Event Result  WhiteElo  BlackElo  ECO  \\\n",
       "0          Classical     1-0      1901      1896  D10   \n",
       "1              Blitz     0-1      1641      1627  C20   \n",
       "2   Blitz tournament     1-0      1647      1688  B01   \n",
       "3     Correspondence     1-0      1706      1317  A00   \n",
       "4   Blitz tournament     0-1      1945      1900  B90   \n",
       "\n",
       "                                         Opening   Termination  \n",
       "0                                   Slav Defense  Time forfeit  \n",
       "1                      King's Pawn Opening: 2.b3        Normal  \n",
       "2  Scandinavian Defense: Mieses-Kotroc Variation  Time forfeit  \n",
       "3                           Van't Kruijs Opening        Normal  \n",
       "4    Sicilian Defense: Najdorf, Lipnitsky Attack  Time forfeit  "
      ]
     },
     "execution_count": 19,
     "metadata": {},
     "output_type": "execute_result"
    }
   ],
   "source": [
    "new_chess_data_df.head(5)"
   ]
  },
  {
   "cell_type": "code",
   "execution_count": 20,
   "metadata": {
    "execution": {
     "iopub.execute_input": "2023-04-26T03:05:53.840688Z",
     "iopub.status.busy": "2023-04-26T03:05:53.839929Z",
     "iopub.status.idle": "2023-04-26T03:05:54.683483Z",
     "shell.execute_reply": "2023-04-26T03:05:54.682247Z",
     "shell.execute_reply.started": "2023-04-26T03:05:53.840637Z"
    }
   },
   "outputs": [
    {
     "data": {
      "text/html": [
       "<div>\n",
       "<style scoped>\n",
       "    .dataframe tbody tr th:only-of-type {\n",
       "        vertical-align: middle;\n",
       "    }\n",
       "\n",
       "    .dataframe tbody tr th {\n",
       "        vertical-align: top;\n",
       "    }\n",
       "\n",
       "    .dataframe thead th {\n",
       "        text-align: right;\n",
       "    }\n",
       "</style>\n",
       "<table border=\"1\" class=\"dataframe\">\n",
       "  <thead>\n",
       "    <tr style=\"text-align: right;\">\n",
       "      <th></th>\n",
       "      <th>ECO</th>\n",
       "      <th>Opening</th>\n",
       "    </tr>\n",
       "  </thead>\n",
       "  <tbody>\n",
       "    <tr>\n",
       "      <th>0</th>\n",
       "      <td>D10</td>\n",
       "      <td>Slav Defense</td>\n",
       "    </tr>\n",
       "    <tr>\n",
       "      <th>1</th>\n",
       "      <td>C20</td>\n",
       "      <td>King's Pawn Opening: 2.b3</td>\n",
       "    </tr>\n",
       "    <tr>\n",
       "      <th>2</th>\n",
       "      <td>B01</td>\n",
       "      <td>Scandinavian Defense: Mieses-Kotroc Variation</td>\n",
       "    </tr>\n",
       "    <tr>\n",
       "      <th>3</th>\n",
       "      <td>A00</td>\n",
       "      <td>Van't Kruijs Opening</td>\n",
       "    </tr>\n",
       "    <tr>\n",
       "      <th>4</th>\n",
       "      <td>B90</td>\n",
       "      <td>Sicilian Defense: Najdorf, Lipnitsky Attack</td>\n",
       "    </tr>\n",
       "    <tr>\n",
       "      <th>...</th>\n",
       "      <td>...</td>\n",
       "      <td>...</td>\n",
       "    </tr>\n",
       "    <tr>\n",
       "      <th>1061695</th>\n",
       "      <td>D98</td>\n",
       "      <td>Gruenfeld Defense: Russian Variation, Smyslov ...</td>\n",
       "    </tr>\n",
       "    <tr>\n",
       "      <th>1508283</th>\n",
       "      <td>D84</td>\n",
       "      <td>Gruenfeld Defense: Brinckmann Attack, Gruenfel...</td>\n",
       "    </tr>\n",
       "    <tr>\n",
       "      <th>2805583</th>\n",
       "      <td>C76</td>\n",
       "      <td>Ruy Lopez: Morphy Defense, Modern Steinitz Def...</td>\n",
       "    </tr>\n",
       "    <tr>\n",
       "      <th>4202470</th>\n",
       "      <td>E96</td>\n",
       "      <td>King's Indian Defense: Orthodox Variation, Pos...</td>\n",
       "    </tr>\n",
       "    <tr>\n",
       "      <th>4644872</th>\n",
       "      <td>B69</td>\n",
       "      <td>Sicilian Defense: Richter-Rauzer Variation, Ne...</td>\n",
       "    </tr>\n",
       "  </tbody>\n",
       "</table>\n",
       "<p>493 rows × 2 columns</p>\n",
       "</div>"
      ],
      "text/plain": [
       "         ECO                                            Opening\n",
       "0        D10                                       Slav Defense\n",
       "1        C20                          King's Pawn Opening: 2.b3\n",
       "2        B01      Scandinavian Defense: Mieses-Kotroc Variation\n",
       "3        A00                               Van't Kruijs Opening\n",
       "4        B90        Sicilian Defense: Najdorf, Lipnitsky Attack\n",
       "...      ...                                                ...\n",
       "1061695  D98  Gruenfeld Defense: Russian Variation, Smyslov ...\n",
       "1508283  D84  Gruenfeld Defense: Brinckmann Attack, Gruenfel...\n",
       "2805583  C76  Ruy Lopez: Morphy Defense, Modern Steinitz Def...\n",
       "4202470  E96  King's Indian Defense: Orthodox Variation, Pos...\n",
       "4644872  B69  Sicilian Defense: Richter-Rauzer Variation, Ne...\n",
       "\n",
       "[493 rows x 2 columns]"
      ]
     },
     "execution_count": 20,
     "metadata": {},
     "output_type": "execute_result"
    }
   ],
   "source": [
    "eco_mapping = new_chess_data_df[['ECO', 'Opening']].drop_duplicates(subset='ECO')\n",
    "eco_mapping"
   ]
  },
  {
   "cell_type": "code",
   "execution_count": 21,
   "metadata": {
    "execution": {
     "iopub.execute_input": "2023-04-26T03:05:54.685325Z",
     "iopub.status.busy": "2023-04-26T03:05:54.684697Z",
     "iopub.status.idle": "2023-04-26T03:05:54.699550Z",
     "shell.execute_reply": "2023-04-26T03:05:54.698128Z",
     "shell.execute_reply.started": "2023-04-26T03:05:54.685282Z"
    }
   },
   "outputs": [
    {
     "name": "stdout",
     "output_type": "stream",
     "text": [
      "Dataframe has been saved to 'eco_opening_mapping.csv'\n"
     ]
    }
   ],
   "source": [
    "eco_mapping.to_csv('eco_opening_mapping.csv', index=False)\n",
    "\n",
    "# Print a message to indicate that the dataframe has been saved to a .csv file\n",
    "print(\"Dataframe has been saved to 'eco_opening_mapping.csv'\")"
   ]
  },
  {
   "cell_type": "code",
   "execution_count": 22,
   "metadata": {
    "execution": {
     "iopub.execute_input": "2023-04-26T03:05:54.701155Z",
     "iopub.status.busy": "2023-04-26T03:05:54.700763Z",
     "iopub.status.idle": "2023-04-26T03:05:55.030883Z",
     "shell.execute_reply": "2023-04-26T03:05:55.029238Z",
     "shell.execute_reply.started": "2023-04-26T03:05:54.701105Z"
    }
   },
   "outputs": [
    {
     "name": "stderr",
     "output_type": "stream",
     "text": [
      "/opt/conda/lib/python3.7/site-packages/pandas/core/frame.py:4913: SettingWithCopyWarning: \n",
      "A value is trying to be set on a copy of a slice from a DataFrame\n",
      "\n",
      "See the caveats in the documentation: https://pandas.pydata.org/pandas-docs/stable/user_guide/indexing.html#returning-a-view-versus-a-copy\n",
      "  errors=errors,\n"
     ]
    },
    {
     "data": {
      "text/html": [
       "<div>\n",
       "<style scoped>\n",
       "    .dataframe tbody tr th:only-of-type {\n",
       "        vertical-align: middle;\n",
       "    }\n",
       "\n",
       "    .dataframe tbody tr th {\n",
       "        vertical-align: top;\n",
       "    }\n",
       "\n",
       "    .dataframe thead th {\n",
       "        text-align: right;\n",
       "    }\n",
       "</style>\n",
       "<table border=\"1\" class=\"dataframe\">\n",
       "  <thead>\n",
       "    <tr style=\"text-align: right;\">\n",
       "      <th></th>\n",
       "      <th>Event</th>\n",
       "      <th>Result</th>\n",
       "      <th>WhiteElo</th>\n",
       "      <th>BlackElo</th>\n",
       "      <th>ECO</th>\n",
       "      <th>Termination</th>\n",
       "    </tr>\n",
       "  </thead>\n",
       "  <tbody>\n",
       "    <tr>\n",
       "      <th>0</th>\n",
       "      <td>Classical</td>\n",
       "      <td>1-0</td>\n",
       "      <td>1901</td>\n",
       "      <td>1896</td>\n",
       "      <td>D10</td>\n",
       "      <td>Time forfeit</td>\n",
       "    </tr>\n",
       "    <tr>\n",
       "      <th>1</th>\n",
       "      <td>Blitz</td>\n",
       "      <td>0-1</td>\n",
       "      <td>1641</td>\n",
       "      <td>1627</td>\n",
       "      <td>C20</td>\n",
       "      <td>Normal</td>\n",
       "    </tr>\n",
       "    <tr>\n",
       "      <th>2</th>\n",
       "      <td>Blitz tournament</td>\n",
       "      <td>1-0</td>\n",
       "      <td>1647</td>\n",
       "      <td>1688</td>\n",
       "      <td>B01</td>\n",
       "      <td>Time forfeit</td>\n",
       "    </tr>\n",
       "    <tr>\n",
       "      <th>3</th>\n",
       "      <td>Correspondence</td>\n",
       "      <td>1-0</td>\n",
       "      <td>1706</td>\n",
       "      <td>1317</td>\n",
       "      <td>A00</td>\n",
       "      <td>Normal</td>\n",
       "    </tr>\n",
       "    <tr>\n",
       "      <th>4</th>\n",
       "      <td>Blitz tournament</td>\n",
       "      <td>0-1</td>\n",
       "      <td>1945</td>\n",
       "      <td>1900</td>\n",
       "      <td>B90</td>\n",
       "      <td>Time forfeit</td>\n",
       "    </tr>\n",
       "  </tbody>\n",
       "</table>\n",
       "</div>"
      ],
      "text/plain": [
       "                Event Result  WhiteElo  BlackElo  ECO   Termination\n",
       "0          Classical     1-0      1901      1896  D10  Time forfeit\n",
       "1              Blitz     0-1      1641      1627  C20        Normal\n",
       "2   Blitz tournament     1-0      1647      1688  B01  Time forfeit\n",
       "3     Correspondence     1-0      1706      1317  A00        Normal\n",
       "4   Blitz tournament     0-1      1945      1900  B90  Time forfeit"
      ]
     },
     "execution_count": 22,
     "metadata": {},
     "output_type": "execute_result"
    }
   ],
   "source": [
    "new_chess_data_df.drop(['Opening'], axis=1, inplace=True)\n",
    "new_chess_data_df.head(5)"
   ]
  },
  {
   "cell_type": "code",
   "execution_count": 23,
   "metadata": {
    "execution": {
     "iopub.execute_input": "2023-04-26T03:05:55.032755Z",
     "iopub.status.busy": "2023-04-26T03:05:55.032383Z",
     "iopub.status.idle": "2023-04-26T03:05:58.434337Z",
     "shell.execute_reply": "2023-04-26T03:05:58.432857Z",
     "shell.execute_reply.started": "2023-04-26T03:05:55.032704Z"
    }
   },
   "outputs": [
    {
     "name": "stdout",
     "output_type": "stream",
     "text": [
      "Dealing with: Event\n",
      "[' Classical ' ' Blitz ' ' Blitz tournament ' ' Correspondence '\n",
      " ' Classical tournament ' ' Bullet tournament ' ' Bullet '\n",
      " 'Blitz tournament ' 'Bullet ' 'Classical ' 'Blitz ' 'Bullet tournament '\n",
      " 'Classical tournament ' 'Correspondence ']\n",
      "Dealing with: Result\n",
      "['1-0' '0-1' '1/2-1/2']\n",
      "Dealing with: Termination\n",
      "['Time forfeit' 'Normal' 'Rules infraction']\n"
     ]
    }
   ],
   "source": [
    "for col in new_chess_data_df.columns:\n",
    "    if(len(new_chess_data_df[col].unique())<=20):\n",
    "        print(\"Dealing with:\", col)\n",
    "        print(new_chess_data_df[col].unique())"
   ]
  },
  {
   "cell_type": "code",
   "execution_count": 25,
   "metadata": {
    "execution": {
     "iopub.execute_input": "2023-04-26T03:06:19.322909Z",
     "iopub.status.busy": "2023-04-26T03:06:19.320346Z",
     "iopub.status.idle": "2023-04-26T03:06:21.305448Z",
     "shell.execute_reply": "2023-04-26T03:06:21.303934Z",
     "shell.execute_reply.started": "2023-04-26T03:06:19.322812Z"
    }
   },
   "outputs": [
    {
     "name": "stdout",
     "output_type": "stream",
     "text": [
      "Total number of rows with top 25 percentile White and Black ELO rated players:  3124639\n",
      "Total number of rows with bottom 25 percentile White and Black ELO rated players:  3113959\n",
      "Total number of rows with average White and Black ELO rated players:  6237856\n"
     ]
    }
   ],
   "source": [
    "# Dealing with ECO values\n",
    "# considering top 25 percentile White and Black ELO rated players\n",
    "high_rated_whites = new_chess_data_df[new_chess_data_df[\"WhiteElo\"] >= 1919]\n",
    "high_rated_blacks = new_chess_data_df[new_chess_data_df[\"BlackElo\"] >= 1919]\n",
    "print(\"Total number of rows with top 25 percentile White and Black ELO rated players: \", (high_rated_whites.shape[0]+high_rated_blacks.shape[0]))\n",
    "\n",
    "# Dealing with ECO values\n",
    "# considering bottom 25 percentile White and Black ELO rated players\n",
    "low_rated_whites = new_chess_data_df[new_chess_data_df[\"WhiteElo\"] < 1559]\n",
    "low_rated_blacks = new_chess_data_df[new_chess_data_df[\"BlackElo\"] < 1557]\n",
    "print(\"Total number of rows with bottom 25 percentile White and Black ELO rated players: \", (low_rated_whites.shape[0]+low_rated_blacks.shape[0]))\n",
    "\n",
    "# Dealing with ECO values\n",
    "# considering average rated White and Black ELO players\n",
    "avg_rated_whites = new_chess_data_df[(new_chess_data_df[\"WhiteElo\"] >= 1559) & (new_chess_data_df[\"WhiteElo\"] < 1919)]\n",
    "avg_rated_blacks = new_chess_data_df[(new_chess_data_df[\"BlackElo\"] >= 1557) & (new_chess_data_df[\"BlackElo\"] < 1919)]\n",
    "print(\"Total number of rows with average White and Black ELO rated players: \", (avg_rated_whites.shape[0]+avg_rated_blacks.shape[0]))"
   ]
  },
  {
   "cell_type": "code",
   "execution_count": 26,
   "metadata": {
    "execution": {
     "iopub.execute_input": "2023-04-26T03:07:10.481710Z",
     "iopub.status.busy": "2023-04-26T03:07:10.481254Z",
     "iopub.status.idle": "2023-04-26T03:07:10.495590Z",
     "shell.execute_reply": "2023-04-26T03:07:10.493976Z",
     "shell.execute_reply.started": "2023-04-26T03:07:10.481670Z"
    }
   },
   "outputs": [
    {
     "name": "stdout",
     "output_type": "stream",
     "text": [
      "                      Event Result  WhiteElo  BlackElo  ECO   Termination\n",
      "0                Classical     1-0      1901      1896  D10  Time forfeit\n",
      "1                    Blitz     0-1      1641      1627  C20        Normal\n",
      "2         Blitz tournament     1-0      1647      1688  B01  Time forfeit\n",
      "3           Correspondence     1-0      1706      1317  A00        Normal\n",
      "4         Blitz tournament     0-1      1945      1900  B90  Time forfeit\n",
      "...                     ...    ...       ...       ...  ...           ...\n",
      "6256179              Blitz     1-0      1248      1303  B54        Normal\n",
      "6256180          Classical     1-0      1328      1292  C40        Normal\n",
      "6256181             Bullet     0-1      1660      1658  B21        Normal\n",
      "6256182             Bullet     0-1      1726      1776  A09        Normal\n",
      "6256183          Classical     0-1      1948      1992  C00        Normal\n",
      "\n",
      "[6238227 rows x 6 columns]\n"
     ]
    }
   ],
   "source": [
    "print(new_chess_data_df)"
   ]
  },
  {
   "cell_type": "code",
   "execution_count": 28,
   "metadata": {
    "execution": {
     "iopub.execute_input": "2023-04-26T03:11:04.984137Z",
     "iopub.status.busy": "2023-04-26T03:11:04.983297Z",
     "iopub.status.idle": "2023-04-26T03:11:04.991880Z",
     "shell.execute_reply": "2023-04-26T03:11:04.990448Z",
     "shell.execute_reply.started": "2023-04-26T03:11:04.984027Z"
    }
   },
   "outputs": [],
   "source": [
    "import os\n",
    "os.chdir(r'/kaggle/working')"
   ]
  },
  {
   "cell_type": "code",
   "execution_count": 29,
   "metadata": {
    "execution": {
     "iopub.execute_input": "2023-04-26T03:12:32.110565Z",
     "iopub.status.busy": "2023-04-26T03:12:32.110002Z",
     "iopub.status.idle": "2023-04-26T03:12:48.620995Z",
     "shell.execute_reply": "2023-04-26T03:12:48.619121Z",
     "shell.execute_reply.started": "2023-04-26T03:12:32.110521Z"
    }
   },
   "outputs": [],
   "source": [
    "new_chess_data_df.to_csv(r'new_chess_data_df.csv')"
   ]
  },
  {
   "cell_type": "code",
   "execution_count": null,
   "metadata": {},
   "outputs": [],
   "source": []
  }
 ],
 "metadata": {
  "kernelspec": {
   "display_name": "Python 3 (ipykernel)",
   "language": "python",
   "name": "python3"
  },
  "language_info": {
   "codemirror_mode": {
    "name": "ipython",
    "version": 3
   },
   "file_extension": ".py",
   "mimetype": "text/x-python",
   "name": "python",
   "nbconvert_exporter": "python",
   "pygments_lexer": "ipython3",
   "version": "3.10.9"
  }
 },
 "nbformat": 4,
 "nbformat_minor": 4
}
